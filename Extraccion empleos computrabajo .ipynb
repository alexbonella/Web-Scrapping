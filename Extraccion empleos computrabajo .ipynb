{
 "cells": [
  {
   "cell_type": "markdown",
   "metadata": {},
   "source": [
    "# Extraccion de vacantes de Antioquia Computrabajo "
   ]
  },
  {
   "cell_type": "code",
   "execution_count": 1,
   "metadata": {},
   "outputs": [],
   "source": [
    "# Importamos libreria"
   ]
  },
  {
   "cell_type": "code",
   "execution_count": 2,
   "metadata": {},
   "outputs": [],
   "source": [
    "import requests\n",
    "import numpy "
   ]
  },
  {
   "cell_type": "code",
   "execution_count": 3,
   "metadata": {},
   "outputs": [],
   "source": [
    "r=requests.get('https://www.computrabajo.com.co/empleos-en-antioquia')"
   ]
  },
  {
   "cell_type": "code",
   "execution_count": 4,
   "metadata": {},
   "outputs": [],
   "source": [
    "# Realizamos el parsing con  Beautifulsoup "
   ]
  },
  {
   "cell_type": "code",
   "execution_count": 5,
   "metadata": {},
   "outputs": [],
   "source": [
    "from bs4 import BeautifulSoup  \n",
    "soup = BeautifulSoup(r.text, 'html.parser') "
   ]
  },
  {
   "cell_type": "markdown",
   "metadata": {},
   "source": [
    "# Extraccion del titulo de la vacante"
   ]
  },
  {
   "cell_type": "code",
   "execution_count": 6,
   "metadata": {},
   "outputs": [],
   "source": [
    "Titulo_vacante = soup.find_all('a', attrs={'js-o-link'}) # Descripcion de la vacante"
   ]
  },
  {
   "cell_type": "code",
   "execution_count": 7,
   "metadata": {},
   "outputs": [
    {
     "data": {
      "text/plain": [
       "20"
      ]
     },
     "execution_count": 7,
     "metadata": {},
     "output_type": "execute_result"
    }
   ],
   "source": [
    "len(Titulo_vacante)"
   ]
  },
  {
   "cell_type": "code",
   "execution_count": 8,
   "metadata": {},
   "outputs": [
    {
     "data": {
      "text/plain": [
       "'Empleo de asesor  por corretaje - asesor turistico'"
      ]
     },
     "execution_count": 8,
     "metadata": {},
     "output_type": "execute_result"
    }
   ],
   "source": [
    "Titulo_vacante[0]['title'] # Descripcion de la vacante"
   ]
  },
  {
   "cell_type": "markdown",
   "metadata": {},
   "source": [
    "# Extraccion del Nombre de la empresa"
   ]
  },
  {
   "cell_type": "code",
   "execution_count": 9,
   "metadata": {},
   "outputs": [],
   "source": [
    "Nombre_empresa1 = soup.find_all('a', attrs={'class':'empr it-blank'}) # Nombre de la empresa"
   ]
  },
  {
   "cell_type": "code",
   "execution_count": 10,
   "metadata": {},
   "outputs": [
    {
     "data": {
      "text/plain": [
       "20"
      ]
     },
     "execution_count": 10,
     "metadata": {},
     "output_type": "execute_result"
    }
   ],
   "source": [
    "len(Nombre_empresa1)"
   ]
  },
  {
   "cell_type": "code",
   "execution_count": 11,
   "metadata": {},
   "outputs": [
    {
     "data": {
      "text/plain": [
       "''"
      ]
     },
     "execution_count": 11,
     "metadata": {},
     "output_type": "execute_result"
    }
   ],
   "source": [
    "Nombre_empresa1[2]['title'] # Nombre de la empresa "
   ]
  },
  {
   "cell_type": "code",
   "execution_count": null,
   "metadata": {},
   "outputs": [],
   "source": []
  },
  {
   "cell_type": "markdown",
   "metadata": {},
   "source": [
    "# perfil de la empresa en computrabajo"
   ]
  },
  {
   "cell_type": "code",
   "execution_count": 12,
   "metadata": {},
   "outputs": [],
   "source": [
    "perfil_empresa = soup.find_all('a', attrs={'class':'js-o-link'}) # Nombre de la empresa"
   ]
  },
  {
   "cell_type": "code",
   "execution_count": 13,
   "metadata": {},
   "outputs": [
    {
     "data": {
      "text/plain": [
       "'/ofertas-de-trabajo/oferta-de-trabajo-de-asesor-por-corretaje-asesor-turistico-en-medellin-DE01B83EF2B06DF261373E686DCF3405'"
      ]
     },
     "execution_count": 13,
     "metadata": {},
     "output_type": "execute_result"
    }
   ],
   "source": [
    "perfil_empresa[0]['href'] # Perfil en computrabajo "
   ]
  },
  {
   "cell_type": "markdown",
   "metadata": {},
   "source": [
    "# Fecha de publicación de la vacante"
   ]
  },
  {
   "cell_type": "code",
   "execution_count": 14,
   "metadata": {},
   "outputs": [],
   "source": [
    "Fecha_pub = soup.find_all('span', attrs={'class':'dO'})"
   ]
  },
  {
   "cell_type": "code",
   "execution_count": 15,
   "metadata": {},
   "outputs": [
    {
     "data": {
      "text/plain": [
       "['Hoy, 06:41 p. m.']"
      ]
     },
     "execution_count": 15,
     "metadata": {},
     "output_type": "execute_result"
    }
   ],
   "source": [
    "Fecha_pub[2].contents # Fecha de la publicacion"
   ]
  },
  {
   "cell_type": "code",
   "execution_count": null,
   "metadata": {},
   "outputs": [],
   "source": []
  },
  {
   "cell_type": "markdown",
   "metadata": {},
   "source": [
    "# Descripcion de la vacante"
   ]
  },
  {
   "cell_type": "code",
   "execution_count": 16,
   "metadata": {},
   "outputs": [],
   "source": [
    "Descripcion_vacante=soup.find_all('p')[3:] # Descripcion de la vacante "
   ]
  },
  {
   "cell_type": "code",
   "execution_count": 17,
   "metadata": {},
   "outputs": [
    {
     "data": {
      "text/plain": [
       "'Cargo: Asesor comercial: ON VACATION HOTELES es una mayorista de turismo, con más de 16 años de presencia en el..'"
      ]
     },
     "execution_count": 17,
     "metadata": {},
     "output_type": "execute_result"
    }
   ],
   "source": [
    "Descripcion_vacante[0].text[0:-1]"
   ]
  },
  {
   "cell_type": "code",
   "execution_count": null,
   "metadata": {},
   "outputs": [],
   "source": []
  },
  {
   "cell_type": "markdown",
   "metadata": {},
   "source": [
    "# Construcción del DataFrame de vacantes"
   ]
  },
  {
   "cell_type": "code",
   "execution_count": 18,
   "metadata": {},
   "outputs": [],
   "source": [
    "Vacantes = []  \n",
    "for i in range(20):  \n",
    "    Titulo=Titulo_vacante[i]['title'] \n",
    "    Fecha=Fecha_pub[i].text\n",
    "    Desripcion=Descripcion_vacante[i].text[0:-1]\n",
    "    Empresa=Nombre_empresa1[i]['title']\n",
    "    Vacantes.append((Fecha,Titulo,Desripcion,Empresa))"
   ]
  },
  {
   "cell_type": "markdown",
   "metadata": {},
   "source": [
    "# Creamos nuestro DataFrame"
   ]
  },
  {
   "cell_type": "code",
   "execution_count": 19,
   "metadata": {},
   "outputs": [],
   "source": [
    "import pandas as pd "
   ]
  },
  {
   "cell_type": "code",
   "execution_count": 20,
   "metadata": {},
   "outputs": [],
   "source": [
    "df = pd.DataFrame(Vacantes, columns=['Fecha','Titulo','Desripcion','Empresa']) "
   ]
  },
  {
   "cell_type": "code",
   "execution_count": 21,
   "metadata": {},
   "outputs": [
    {
     "data": {
      "text/html": [
       "<div>\n",
       "<style scoped>\n",
       "    .dataframe tbody tr th:only-of-type {\n",
       "        vertical-align: middle;\n",
       "    }\n",
       "\n",
       "    .dataframe tbody tr th {\n",
       "        vertical-align: top;\n",
       "    }\n",
       "\n",
       "    .dataframe thead th {\n",
       "        text-align: right;\n",
       "    }\n",
       "</style>\n",
       "<table border=\"1\" class=\"dataframe\">\n",
       "  <thead>\n",
       "    <tr style=\"text-align: right;\">\n",
       "      <th></th>\n",
       "      <th>Fecha</th>\n",
       "      <th>Titulo</th>\n",
       "      <th>Desripcion</th>\n",
       "      <th>Empresa</th>\n",
       "    </tr>\n",
       "  </thead>\n",
       "  <tbody>\n",
       "    <tr>\n",
       "      <th>0</th>\n",
       "      <td>Hoy, 06:44 p. m.</td>\n",
       "      <td>Empleo de asesor  por corretaje - asesor turis...</td>\n",
       "      <td>Cargo: Asesor comercial: ON VACATION HOTELES e...</td>\n",
       "      <td>Valoraciones de la empresa TOUR VACATION HOTEL...</td>\n",
       "    </tr>\n",
       "    <tr>\n",
       "      <th>1</th>\n",
       "      <td>Hoy, 06:41 p. m.</td>\n",
       "      <td>Empleo de Formador - Experiencia de 1 año como...</td>\n",
       "      <td>Se requiere Administrador de empresas, pedagog...</td>\n",
       "      <td></td>\n",
       "    </tr>\n",
       "    <tr>\n",
       "      <th>2</th>\n",
       "      <td>Hoy, 06:41 p. m.</td>\n",
       "      <td>Empleo de operarios de produccion</td>\n",
       "      <td>Se requiere bachiller, con o sin experiencia. ...</td>\n",
       "      <td></td>\n",
       "    </tr>\n",
       "    <tr>\n",
       "      <th>3</th>\n",
       "      <td>Hoy, 06:41 p. m.</td>\n",
       "      <td>Empleo de Auxiliar de Cocina - Disponibilidad ...</td>\n",
       "      <td>Se requiere técnico en cocina, con 6 meses de ...</td>\n",
       "      <td></td>\n",
       "    </tr>\n",
       "    <tr>\n",
       "      <th>4</th>\n",
       "      <td>Hoy, 06:41 p. m.</td>\n",
       "      <td>Empleo de Supervisor de produccion</td>\n",
       "      <td>Se solicita tecnólogo en producción, para el c...</td>\n",
       "      <td></td>\n",
       "    </tr>\n",
       "    <tr>\n",
       "      <th>5</th>\n",
       "      <td>Hoy, 06:41 p. m.</td>\n",
       "      <td>Empleo de Manicurista - con experiencia</td>\n",
       "      <td>Se requiere mancurista con certificados, que s...</td>\n",
       "      <td></td>\n",
       "    </tr>\n",
       "    <tr>\n",
       "      <th>6</th>\n",
       "      <td>Hoy, 06:41 p. m.</td>\n",
       "      <td>Empleo de Ayudante - de Acueducto y alcantaril...</td>\n",
       "      <td>Importante empresasolicita personal para el ca...</td>\n",
       "      <td>Valoraciones de la empresa COMFAMA</td>\n",
       "    </tr>\n",
       "    <tr>\n",
       "      <th>7</th>\n",
       "      <td>Hoy, 06:41 p. m.</td>\n",
       "      <td>Empleo de Mensajero auxiliar logístico  - Bach...</td>\n",
       "      <td>Se requiere Bachiller, para desempeñarse como ...</td>\n",
       "      <td></td>\n",
       "    </tr>\n",
       "    <tr>\n",
       "      <th>8</th>\n",
       "      <td>Hoy, 06:41 p. m.</td>\n",
       "      <td>Empleo de Asesor Comercial - No requiere exper...</td>\n",
       "      <td>Importante empresa de experiencia cliente y BP...</td>\n",
       "      <td>Valoraciones de la empresa Emtelco CX &amp; BPO</td>\n",
       "    </tr>\n",
       "    <tr>\n",
       "      <th>9</th>\n",
       "      <td>Hoy, 06:41 p. m.</td>\n",
       "      <td>Empleo de Administrador de tienda - Sector textil</td>\n",
       "      <td>Importante comercializadora textil de marcas c...</td>\n",
       "      <td>Valoraciones de la empresa MODYMARCA S . A . S</td>\n",
       "    </tr>\n",
       "    <tr>\n",
       "      <th>10</th>\n",
       "      <td>Hoy, 06:41 p. m.</td>\n",
       "      <td>Empleo de Operaria de confección - Encargado d...</td>\n",
       "      <td>Requerimos para nuestro equipo de trabajo pers...</td>\n",
       "      <td>Valoraciones de la empresa Eficacia</td>\n",
       "    </tr>\n",
       "    <tr>\n",
       "      <th>11</th>\n",
       "      <td>Hoy, 06:41 p. m.</td>\n",
       "      <td>Empleo de Ejecutivo comercial en - libranza</td>\n",
       "      <td>En el grupo AVAL queremos personas con capacid...</td>\n",
       "      <td>Valoraciones de la empresa VENTAS Y SERVICIOS ...</td>\n",
       "    </tr>\n",
       "    <tr>\n",
       "      <th>12</th>\n",
       "      <td>Hoy, 06:41 p. m.</td>\n",
       "      <td>Empleo de Ejecutiva de ventas  - Con moto</td>\n",
       "      <td>Reconocida empresa de consumo masivo requiere ...</td>\n",
       "      <td>Valoraciones de la empresa Redes Humanas</td>\n",
       "    </tr>\n",
       "    <tr>\n",
       "      <th>13</th>\n",
       "      <td>Hoy, 06:41 p. m.</td>\n",
       "      <td>Empleo de Key Account Manager</td>\n",
       "      <td>Importante multinacional requiere Key Account ...</td>\n",
       "      <td></td>\n",
       "    </tr>\n",
       "    <tr>\n",
       "      <th>14</th>\n",
       "      <td>Hoy, 06:41 p. m.</td>\n",
       "      <td>Empleo de Vendedor tienda a tienda - Licencia ...</td>\n",
       "      <td>Importante empresa solicita vendedor supernume...</td>\n",
       "      <td>Valoraciones de la empresa MANPOWER PROFESSION...</td>\n",
       "    </tr>\n",
       "    <tr>\n",
       "      <th>15</th>\n",
       "      <td>Hoy, 06:41 p. m.</td>\n",
       "      <td>Empleo de Asesores comerciales medio tiempo</td>\n",
       "      <td>Importante empresa del sector comercial requie...</td>\n",
       "      <td>Valoraciones de la empresa MISION TEMPORAL</td>\n",
       "    </tr>\n",
       "    <tr>\n",
       "      <th>16</th>\n",
       "      <td>Hoy, 06:41 p. m.</td>\n",
       "      <td>Empleo de consultor - debe contar con moto</td>\n",
       "      <td>Empresa del sector de seguros requiere persona...</td>\n",
       "      <td>Valoraciones de la empresa Grupo Accion Plus</td>\n",
       "    </tr>\n",
       "    <tr>\n",
       "      <th>17</th>\n",
       "      <td>Hoy, 06:41 p. m.</td>\n",
       "      <td>Empleo de Asesor comercial</td>\n",
       "      <td>Importante empresa del sector comercial requie...</td>\n",
       "      <td>Valoraciones de la empresa MISION TEMPORAL</td>\n",
       "    </tr>\n",
       "    <tr>\n",
       "      <th>18</th>\n",
       "      <td>Hoy, 06:41 p. m.</td>\n",
       "      <td>Empleo de cajero recaudador 4 horas</td>\n",
       "      <td>CAJERO RECAUDADOR I MEDELLIN (1) 4 horas   For...</td>\n",
       "      <td>Valoraciones de la empresa Grupo Accion Plus</td>\n",
       "    </tr>\n",
       "    <tr>\n",
       "      <th>19</th>\n",
       "      <td>Hoy, 06:41 p. m.</td>\n",
       "      <td>Empleo de Asesor tu credito - experiencia en t...</td>\n",
       "      <td>empresa del sector de libranza requiere Person...</td>\n",
       "      <td>Valoraciones de la empresa Grupo Accion Plus</td>\n",
       "    </tr>\n",
       "  </tbody>\n",
       "</table>\n",
       "</div>"
      ],
      "text/plain": [
       "               Fecha                                             Titulo  \\\n",
       "0   Hoy, 06:44 p. m.  Empleo de asesor  por corretaje - asesor turis...   \n",
       "1   Hoy, 06:41 p. m.  Empleo de Formador - Experiencia de 1 año como...   \n",
       "2   Hoy, 06:41 p. m.                  Empleo de operarios de produccion   \n",
       "3   Hoy, 06:41 p. m.  Empleo de Auxiliar de Cocina - Disponibilidad ...   \n",
       "4   Hoy, 06:41 p. m.                Empleo de Supervisor de produccion    \n",
       "5   Hoy, 06:41 p. m.           Empleo de Manicurista - con experiencia    \n",
       "6   Hoy, 06:41 p. m.  Empleo de Ayudante - de Acueducto y alcantaril...   \n",
       "7   Hoy, 06:41 p. m.  Empleo de Mensajero auxiliar logístico  - Bach...   \n",
       "8   Hoy, 06:41 p. m.  Empleo de Asesor Comercial - No requiere exper...   \n",
       "9   Hoy, 06:41 p. m.  Empleo de Administrador de tienda - Sector textil   \n",
       "10  Hoy, 06:41 p. m.  Empleo de Operaria de confección - Encargado d...   \n",
       "11  Hoy, 06:41 p. m.        Empleo de Ejecutivo comercial en - libranza   \n",
       "12  Hoy, 06:41 p. m.         Empleo de Ejecutiva de ventas  - Con moto    \n",
       "13  Hoy, 06:41 p. m.                      Empleo de Key Account Manager   \n",
       "14  Hoy, 06:41 p. m.  Empleo de Vendedor tienda a tienda - Licencia ...   \n",
       "15  Hoy, 06:41 p. m.        Empleo de Asesores comerciales medio tiempo   \n",
       "16  Hoy, 06:41 p. m.         Empleo de consultor - debe contar con moto   \n",
       "17  Hoy, 06:41 p. m.                        Empleo de Asesor comercial    \n",
       "18  Hoy, 06:41 p. m.                Empleo de cajero recaudador 4 horas   \n",
       "19  Hoy, 06:41 p. m.  Empleo de Asesor tu credito - experiencia en t...   \n",
       "\n",
       "                                           Desripcion  \\\n",
       "0   Cargo: Asesor comercial: ON VACATION HOTELES e...   \n",
       "1   Se requiere Administrador de empresas, pedagog...   \n",
       "2   Se requiere bachiller, con o sin experiencia. ...   \n",
       "3   Se requiere técnico en cocina, con 6 meses de ...   \n",
       "4   Se solicita tecnólogo en producción, para el c...   \n",
       "5   Se requiere mancurista con certificados, que s...   \n",
       "6   Importante empresasolicita personal para el ca...   \n",
       "7   Se requiere Bachiller, para desempeñarse como ...   \n",
       "8   Importante empresa de experiencia cliente y BP...   \n",
       "9   Importante comercializadora textil de marcas c...   \n",
       "10  Requerimos para nuestro equipo de trabajo pers...   \n",
       "11  En el grupo AVAL queremos personas con capacid...   \n",
       "12  Reconocida empresa de consumo masivo requiere ...   \n",
       "13  Importante multinacional requiere Key Account ...   \n",
       "14  Importante empresa solicita vendedor supernume...   \n",
       "15  Importante empresa del sector comercial requie...   \n",
       "16  Empresa del sector de seguros requiere persona...   \n",
       "17  Importante empresa del sector comercial requie...   \n",
       "18  CAJERO RECAUDADOR I MEDELLIN (1) 4 horas   For...   \n",
       "19  empresa del sector de libranza requiere Person...   \n",
       "\n",
       "                                              Empresa  \n",
       "0   Valoraciones de la empresa TOUR VACATION HOTEL...  \n",
       "1                                                      \n",
       "2                                                      \n",
       "3                                                      \n",
       "4                                                      \n",
       "5                                                      \n",
       "6                  Valoraciones de la empresa COMFAMA  \n",
       "7                                                      \n",
       "8         Valoraciones de la empresa Emtelco CX & BPO  \n",
       "9     Valoraciones de la empresa MODYMARCA S . A . S   \n",
       "10                Valoraciones de la empresa Eficacia  \n",
       "11  Valoraciones de la empresa VENTAS Y SERVICIOS ...  \n",
       "12           Valoraciones de la empresa Redes Humanas  \n",
       "13                                                     \n",
       "14  Valoraciones de la empresa MANPOWER PROFESSION...  \n",
       "15         Valoraciones de la empresa MISION TEMPORAL  \n",
       "16       Valoraciones de la empresa Grupo Accion Plus  \n",
       "17         Valoraciones de la empresa MISION TEMPORAL  \n",
       "18       Valoraciones de la empresa Grupo Accion Plus  \n",
       "19       Valoraciones de la empresa Grupo Accion Plus  "
      ]
     },
     "execution_count": 21,
     "metadata": {},
     "output_type": "execute_result"
    }
   ],
   "source": [
    "df"
   ]
  },
  {
   "cell_type": "code",
   "execution_count": null,
   "metadata": {},
   "outputs": [],
   "source": []
  }
 ],
 "metadata": {
  "kernelspec": {
   "display_name": "Python 3",
   "language": "python",
   "name": "python3"
  },
  "language_info": {
   "codemirror_mode": {
    "name": "ipython",
    "version": 3
   },
   "file_extension": ".py",
   "mimetype": "text/x-python",
   "name": "python",
   "nbconvert_exporter": "python",
   "pygments_lexer": "ipython3",
   "version": "3.6.7"
  }
 },
 "nbformat": 4,
 "nbformat_minor": 2
}
