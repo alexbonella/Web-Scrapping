{
 "cells": [
  {
   "cell_type": "markdown",
   "metadata": {},
   "source": [
    "# Importamos librerias "
   ]
  },
  {
   "cell_type": "code",
   "execution_count": 40,
   "metadata": {},
   "outputs": [],
   "source": [
    "import pandas as pd\n",
    "import requests\n",
    "from bs4  import BeautifulSoup"
   ]
  },
  {
   "cell_type": "markdown",
   "metadata": {},
   "source": [
    "# Extraccción pagina 1"
   ]
  },
  {
   "cell_type": "code",
   "execution_count": 3,
   "metadata": {},
   "outputs": [],
   "source": [
    "r1=requests.get('https://www.computrabajo.com.co/empleos-en-antioquia')\n",
    "soup=BeautifulSoup(r1.text,'html.parser')"
   ]
  },
  {
   "cell_type": "code",
   "execution_count": 4,
   "metadata": {},
   "outputs": [
    {
     "data": {
      "text/plain": [
       "'Empleo de Ayudantes de obra'"
      ]
     },
     "execution_count": 4,
     "metadata": {},
     "output_type": "execute_result"
    }
   ],
   "source": [
    "# Nombre de la vacante \n",
    "\n",
    "Job_title=soup.findAll(class_='js-o-link')\n",
    "Job_title[0]['title'] # Nombre de la vacante "
   ]
  },
  {
   "cell_type": "code",
   "execution_count": 5,
   "metadata": {},
   "outputs": [
    {
     "data": {
      "text/plain": [
       "''"
      ]
     },
     "execution_count": 5,
     "metadata": {},
     "output_type": "execute_result"
    }
   ],
   "source": [
    "# Nombre de la empresa page 1 \n",
    "\n",
    "Nombre_empresa1 = soup.find_all(class_='empr it-blank')\n",
    "\n",
    "Nombre_empresa1[0]['title'].split('Valoraciones de la empresa')[-1] # Nombre de la empresa"
   ]
  },
  {
   "cell_type": "code",
   "execution_count": 6,
   "metadata": {},
   "outputs": [
    {
     "data": {
      "text/plain": [
       "'Requerimos ayudantes de obra o construcción, bachilleres con experiencia minima de un año con todo lo relacionado a la..'"
      ]
     },
     "execution_count": 6,
     "metadata": {},
     "output_type": "execute_result"
    }
   ],
   "source": [
    "# Descripción de la vacante\n",
    "\n",
    "\n",
    "Descripcion_vacante=soup.find_all('p')[3:]\n",
    "\n",
    "Descripcion_vacante[0].text[0:-1] # Descripcion de las vacantes "
   ]
  },
  {
   "cell_type": "code",
   "execution_count": 7,
   "metadata": {},
   "outputs": [
    {
     "data": {
      "text/plain": [
       "'Hoy, 10:08 a. m.'"
      ]
     },
     "execution_count": 7,
     "metadata": {},
     "output_type": "execute_result"
    }
   ],
   "source": [
    "# Fecha de publicación \n",
    "\n",
    "Fecha_pub = soup.find_all('span', attrs={'class':'dO'})\n",
    "Fecha_pub[4].text # Fecha de publicación"
   ]
  },
  {
   "cell_type": "markdown",
   "metadata": {},
   "source": [
    "# DataFrames Vacantes pagina 1"
   ]
  },
  {
   "cell_type": "code",
   "execution_count": 9,
   "metadata": {},
   "outputs": [],
   "source": [
    "Vacantes1 = []  \n",
    "for i in range(20):  \n",
    "    Titulo=Job_title[i]['title']\n",
    "    Fecha=Fecha_pub[i].text\n",
    "    Desripcion=Descripcion_vacante[i].text[0:-1]\n",
    "    Empresa=Nombre_empresa1[i]['title'].split('Valoraciones de la empresa')[-1]\n",
    "    Vacantes1.append((Fecha,Titulo,Desripcion,Empresa))"
   ]
  },
  {
   "cell_type": "code",
   "execution_count": 10,
   "metadata": {},
   "outputs": [],
   "source": [
    "df1 = pd.DataFrame(Vacantes1, columns=['Fecha','Titulo','Desripcion','Empresa'])"
   ]
  },
  {
   "cell_type": "code",
   "execution_count": 11,
   "metadata": {},
   "outputs": [
    {
     "data": {
      "text/html": [
       "<div>\n",
       "<style scoped>\n",
       "    .dataframe tbody tr th:only-of-type {\n",
       "        vertical-align: middle;\n",
       "    }\n",
       "\n",
       "    .dataframe tbody tr th {\n",
       "        vertical-align: top;\n",
       "    }\n",
       "\n",
       "    .dataframe thead th {\n",
       "        text-align: right;\n",
       "    }\n",
       "</style>\n",
       "<table border=\"1\" class=\"dataframe\">\n",
       "  <thead>\n",
       "    <tr style=\"text-align: right;\">\n",
       "      <th></th>\n",
       "      <th>Fecha</th>\n",
       "      <th>Titulo</th>\n",
       "      <th>Desripcion</th>\n",
       "      <th>Empresa</th>\n",
       "    </tr>\n",
       "  </thead>\n",
       "  <tbody>\n",
       "    <tr>\n",
       "      <th>0</th>\n",
       "      <td>Hoy, 10:09 a. m.</td>\n",
       "      <td>Empleo de Ayudantes de obra</td>\n",
       "      <td>Requerimos ayudantes de obra o construcción, b...</td>\n",
       "      <td></td>\n",
       "    </tr>\n",
       "    <tr>\n",
       "      <th>1</th>\n",
       "      <td>Hoy, 10:09 a. m.</td>\n",
       "      <td>Empleo de Tecnólogo en Seguridad y Salud en el...</td>\n",
       "      <td>Empresa de transporte, requiere para su equipo...</td>\n",
       "      <td></td>\n",
       "    </tr>\n",
       "    <tr>\n",
       "      <th>2</th>\n",
       "      <td>Hoy, 10:08 a. m.</td>\n",
       "      <td>Empleo de Gerente de cuentas de consumo</td>\n",
       "      <td>Se requiere profesionalcon experiencia mínima ...</td>\n",
       "      <td>MANPOWER PROFESSIONAL LTDA</td>\n",
       "    </tr>\n",
       "    <tr>\n",
       "      <th>3</th>\n",
       "      <td>Hoy, 10:08 a. m.</td>\n",
       "      <td>Empleo de líder de cuenta comerciales con lice...</td>\n",
       "      <td>Se requiere profesionalcon experiencia mínima ...</td>\n",
       "      <td>MANPOWER PROFESSIONAL LTDA</td>\n",
       "    </tr>\n",
       "    <tr>\n",
       "      <th>4</th>\n",
       "      <td>Hoy, 10:08 a. m.</td>\n",
       "      <td>Empleo de Asesor comercial externo de libranza</td>\n",
       "      <td>Importante empresa del sector financiero requi...</td>\n",
       "      <td>Adecco Colombia S.A.</td>\n",
       "    </tr>\n",
       "  </tbody>\n",
       "</table>\n",
       "</div>"
      ],
      "text/plain": [
       "              Fecha                                             Titulo  \\\n",
       "0  Hoy, 10:09 a. m.                        Empleo de Ayudantes de obra   \n",
       "1  Hoy, 10:09 a. m.  Empleo de Tecnólogo en Seguridad y Salud en el...   \n",
       "2  Hoy, 10:08 a. m.           Empleo de Gerente de cuentas de consumo    \n",
       "3  Hoy, 10:08 a. m.  Empleo de líder de cuenta comerciales con lice...   \n",
       "4  Hoy, 10:08 a. m.    Empleo de Asesor comercial externo de libranza    \n",
       "\n",
       "                                          Desripcion  \\\n",
       "0  Requerimos ayudantes de obra o construcción, b...   \n",
       "1  Empresa de transporte, requiere para su equipo...   \n",
       "2  Se requiere profesionalcon experiencia mínima ...   \n",
       "3  Se requiere profesionalcon experiencia mínima ...   \n",
       "4  Importante empresa del sector financiero requi...   \n",
       "\n",
       "                       Empresa  \n",
       "0                               \n",
       "1                               \n",
       "2   MANPOWER PROFESSIONAL LTDA  \n",
       "3   MANPOWER PROFESSIONAL LTDA  \n",
       "4         Adecco Colombia S.A.  "
      ]
     },
     "execution_count": 11,
     "metadata": {},
     "output_type": "execute_result"
    }
   ],
   "source": [
    "df1.head()"
   ]
  },
  {
   "cell_type": "markdown",
   "metadata": {},
   "source": [
    "# Extraccion paginas restantes desde la 2 a la 715"
   ]
  },
  {
   "cell_type": "code",
   "execution_count": 22,
   "metadata": {},
   "outputs": [],
   "source": [
    "url=[]  # Vector donde se cargaran la información de todas las url's\n",
    "for i in range(2,715):\n",
    "    url.append('https://www.computrabajo.com.co/empleos-en-antioquia?p=' + str(i))"
   ]
  },
  {
   "cell_type": "code",
   "execution_count": 27,
   "metadata": {},
   "outputs": [],
   "source": [
    "#pages=[] # lista vacia\n",
    "#soup=[]\n",
    "Vacantes2=[]\n",
    "for i in range(712):\n",
    "    pages=requests.get(url[i])\n",
    "    soup=BeautifulSoup(pages.text,'html.parser')\n",
    "    Job_title=soup.findAll(class_='js-o-link')\n",
    "    Nombre_empresa1 = soup.find_all(class_='empr it-blank')\n",
    "    Descripcion_vacante=soup.find_all('p')[3:]\n",
    "    Fecha_pub = soup.find_all('span', attrs={'class':'dO'})\n",
    "    \n",
    "    # Ciclo de extraccion por pagina \n",
    "    \n",
    "    for i in range(20):  \n",
    "        Titulo=Job_title[i]['title']\n",
    "        Fecha=Fecha_pub[i].text\n",
    "        Desripcion=Descripcion_vacante[i].text[0:-1]\n",
    "        Empresa=Nombre_empresa1[i]['title'].split('Valoraciones de la empresa')[-1]\n",
    "        Vacantes2.append((Fecha,Titulo,Desripcion,Empresa)) "
   ]
  },
  {
   "cell_type": "code",
   "execution_count": 31,
   "metadata": {},
   "outputs": [],
   "source": [
    "df2 = pd.DataFrame(Vacantes2, columns=['Fecha','Titulo','Desripcion','Empresa'])"
   ]
  },
  {
   "cell_type": "code",
   "execution_count": 36,
   "metadata": {},
   "outputs": [],
   "source": [
    "Vacantes_final=pd.concat([df1,df2],ignore_index=True)"
   ]
  },
  {
   "cell_type": "code",
   "execution_count": 39,
   "metadata": {},
   "outputs": [
    {
     "name": "stdout",
     "output_type": "stream",
     "text": [
      "<class 'pandas.core.frame.DataFrame'>\n",
      "RangeIndex: 14260 entries, 0 to 14259\n",
      "Data columns (total 4 columns):\n",
      "Fecha         14260 non-null object\n",
      "Titulo        14260 non-null object\n",
      "Desripcion    14260 non-null object\n",
      "Empresa       14260 non-null object\n",
      "dtypes: object(4)\n",
      "memory usage: 445.7+ KB\n"
     ]
    }
   ],
   "source": [
    "Vacantes_final # Se extrajeron 14260 vacantes de Antioquia"
   ]
  },
  {
   "cell_type": "code",
   "execution_count": 42,
   "metadata": {},
   "outputs": [
    {
     "data": {
      "text/html": [
       "<div>\n",
       "<style scoped>\n",
       "    .dataframe tbody tr th:only-of-type {\n",
       "        vertical-align: middle;\n",
       "    }\n",
       "\n",
       "    .dataframe tbody tr th {\n",
       "        vertical-align: top;\n",
       "    }\n",
       "\n",
       "    .dataframe thead th {\n",
       "        text-align: right;\n",
       "    }\n",
       "</style>\n",
       "<table border=\"1\" class=\"dataframe\">\n",
       "  <thead>\n",
       "    <tr style=\"text-align: right;\">\n",
       "      <th></th>\n",
       "      <th>Fecha</th>\n",
       "      <th>Titulo</th>\n",
       "      <th>Desripcion</th>\n",
       "      <th>Empresa</th>\n",
       "    </tr>\n",
       "  </thead>\n",
       "  <tbody>\n",
       "    <tr>\n",
       "      <th>0</th>\n",
       "      <td>Hoy, 10:09 a. m.</td>\n",
       "      <td>Empleo de Ayudantes de obra</td>\n",
       "      <td>Requerimos ayudantes de obra o construcción, b...</td>\n",
       "      <td></td>\n",
       "    </tr>\n",
       "    <tr>\n",
       "      <th>1</th>\n",
       "      <td>Hoy, 10:09 a. m.</td>\n",
       "      <td>Empleo de Tecnólogo en Seguridad y Salud en el...</td>\n",
       "      <td>Empresa de transporte, requiere para su equipo...</td>\n",
       "      <td></td>\n",
       "    </tr>\n",
       "    <tr>\n",
       "      <th>2</th>\n",
       "      <td>Hoy, 10:08 a. m.</td>\n",
       "      <td>Empleo de Gerente de cuentas de consumo</td>\n",
       "      <td>Se requiere profesionalcon experiencia mínima ...</td>\n",
       "      <td>MANPOWER PROFESSIONAL LTDA</td>\n",
       "    </tr>\n",
       "    <tr>\n",
       "      <th>3</th>\n",
       "      <td>Hoy, 10:08 a. m.</td>\n",
       "      <td>Empleo de líder de cuenta comerciales con lice...</td>\n",
       "      <td>Se requiere profesionalcon experiencia mínima ...</td>\n",
       "      <td>MANPOWER PROFESSIONAL LTDA</td>\n",
       "    </tr>\n",
       "    <tr>\n",
       "      <th>4</th>\n",
       "      <td>Hoy, 10:08 a. m.</td>\n",
       "      <td>Empleo de Asesor comercial externo de libranza</td>\n",
       "      <td>Importante empresa del sector financiero requi...</td>\n",
       "      <td>Adecco Colombia S.A.</td>\n",
       "    </tr>\n",
       "  </tbody>\n",
       "</table>\n",
       "</div>"
      ],
      "text/plain": [
       "              Fecha                                             Titulo  \\\n",
       "0  Hoy, 10:09 a. m.                        Empleo de Ayudantes de obra   \n",
       "1  Hoy, 10:09 a. m.  Empleo de Tecnólogo en Seguridad y Salud en el...   \n",
       "2  Hoy, 10:08 a. m.           Empleo de Gerente de cuentas de consumo    \n",
       "3  Hoy, 10:08 a. m.  Empleo de líder de cuenta comerciales con lice...   \n",
       "4  Hoy, 10:08 a. m.    Empleo de Asesor comercial externo de libranza    \n",
       "\n",
       "                                          Desripcion  \\\n",
       "0  Requerimos ayudantes de obra o construcción, b...   \n",
       "1  Empresa de transporte, requiere para su equipo...   \n",
       "2  Se requiere profesionalcon experiencia mínima ...   \n",
       "3  Se requiere profesionalcon experiencia mínima ...   \n",
       "4  Importante empresa del sector financiero requi...   \n",
       "\n",
       "                       Empresa  \n",
       "0                               \n",
       "1                               \n",
       "2   MANPOWER PROFESSIONAL LTDA  \n",
       "3   MANPOWER PROFESSIONAL LTDA  \n",
       "4         Adecco Colombia S.A.  "
      ]
     },
     "execution_count": 42,
     "metadata": {},
     "output_type": "execute_result"
    }
   ],
   "source": [
    "Vacantes_final.head()"
   ]
  },
  {
   "cell_type": "code",
   "execution_count": null,
   "metadata": {},
   "outputs": [],
   "source": []
  },
  {
   "cell_type": "markdown",
   "metadata": {},
   "source": [
    "# Creación del archivo csv"
   ]
  },
  {
   "cell_type": "code",
   "execution_count": 43,
   "metadata": {},
   "outputs": [],
   "source": [
    "Vacantes_final.to_csv('Vacantes_Antioquia.csv')"
   ]
  },
  {
   "cell_type": "code",
   "execution_count": null,
   "metadata": {},
   "outputs": [],
   "source": []
  },
  {
   "cell_type": "markdown",
   "metadata": {},
   "source": [
    "# FINAL..........."
   ]
  }
 ],
 "metadata": {
  "kernelspec": {
   "display_name": "Python 3",
   "language": "python",
   "name": "python3"
  },
  "language_info": {
   "codemirror_mode": {
    "name": "ipython",
    "version": 3
   },
   "file_extension": ".py",
   "mimetype": "text/x-python",
   "name": "python",
   "nbconvert_exporter": "python",
   "pygments_lexer": "ipython3",
   "version": "3.7.1"
  }
 },
 "nbformat": 4,
 "nbformat_minor": 2
}
