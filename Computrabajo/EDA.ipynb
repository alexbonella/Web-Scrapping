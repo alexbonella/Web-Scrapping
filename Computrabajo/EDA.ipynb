{
 "cells": [
  {
   "cell_type": "markdown",
   "metadata": {},
   "source": [
    "**Autor:** *@lexbonell@*\n",
    "\n",
    "**Caso:** *Computrabajo-Antoquia*"
   ]
  },
  {
   "cell_type": "code",
   "execution_count": 1,
   "metadata": {},
   "outputs": [],
   "source": [
    "import pandas as pd\n",
    "import matplotlib.pyplot as plt\n",
    "import seaborn as sns \n",
    "from nltk.tokenize import sent_tokenize, word_tokenize\n",
    "from nltk.corpus import stopwords\n",
    "import nltk\n",
    "import re\n",
    "%matplotlib inline "
   ]
  },
  {
   "cell_type": "code",
   "execution_count": 2,
   "metadata": {},
   "outputs": [],
   "source": [
    "df=pd.read_csv('Vacantes_Antioquia.csv')\n",
    "df=pd.DataFrame(df)"
   ]
  },
  {
   "cell_type": "code",
   "execution_count": 3,
   "metadata": {},
   "outputs": [],
   "source": [
    "df=df.drop(columns='Unnamed: 0')"
   ]
  },
  {
   "cell_type": "markdown",
   "metadata": {},
   "source": [
    "# Top 15 de las empresas con  mas vacantes "
   ]
  },
  {
   "cell_type": "code",
   "execution_count": 4,
   "metadata": {},
   "outputs": [
    {
     "data": {
      "text/plain": [
       " Jiro S.A.                                    593\n",
       " nexarte servicios temporales s.a             482\n",
       " MANPOWER PROFESSIONAL LTDA                   471\n",
       " Mision Empresarial S.A                       350\n",
       " ACTIVOS S A S                                341\n",
       " Grupo Accion Plus                            320\n",
       " Staffing de Colombia                         288\n",
       " COMPLEMENTOS HUMANOS                         287\n",
       " Tiempos SAS                                  259\n",
       " OneLink BPO                                  249\n",
       " Saitemp S.A                                  232\n",
       " Dar Ayuda Temporal                           226\n",
       " Eficacia                                     225\n",
       " MISION TEMPORAL                              212\n",
       " ORGANIZACIÓN SERVICIOS Y ASESORIAS S.A.S.    184\n",
       "Name: Empresa, dtype: int64"
      ]
     },
     "execution_count": 4,
     "metadata": {},
     "output_type": "execute_result"
    }
   ],
   "source": [
    "df['Empresa'].value_counts().head(15)"
   ]
  },
  {
   "cell_type": "code",
   "execution_count": 5,
   "metadata": {},
   "outputs": [
    {
     "data": {
      "text/html": [
       "<div>\n",
       "<style scoped>\n",
       "    .dataframe tbody tr th:only-of-type {\n",
       "        vertical-align: middle;\n",
       "    }\n",
       "\n",
       "    .dataframe tbody tr th {\n",
       "        vertical-align: top;\n",
       "    }\n",
       "\n",
       "    .dataframe thead th {\n",
       "        text-align: right;\n",
       "    }\n",
       "</style>\n",
       "<table border=\"1\" class=\"dataframe\">\n",
       "  <thead>\n",
       "    <tr style=\"text-align: right;\">\n",
       "      <th></th>\n",
       "      <th>Fecha</th>\n",
       "      <th>Titulo</th>\n",
       "      <th>Desripcion</th>\n",
       "      <th>Empresa</th>\n",
       "    </tr>\n",
       "  </thead>\n",
       "  <tbody>\n",
       "    <tr>\n",
       "      <th>0</th>\n",
       "      <td>Hoy, 11:06 a. m.</td>\n",
       "      <td>Empleo de Convocatoria laboral técnico en inst...</td>\n",
       "      <td>Si eres bachiller, técnico o tecnologo con exp...</td>\n",
       "      <td>HQ5 S.A.S</td>\n",
       "    </tr>\n",
       "    <tr>\n",
       "      <th>1</th>\n",
       "      <td>Hoy, 11:01 a. m.</td>\n",
       "      <td>Empleo de Coordinador Comercial Apartado</td>\n",
       "      <td>Empresa de telecomunicaciones requiere Coordin...</td>\n",
       "      <td>SU TEMPORAL S.A</td>\n",
       "    </tr>\n",
       "    <tr>\n",
       "      <th>2</th>\n",
       "      <td>Hoy, 11:01 a. m.</td>\n",
       "      <td>Empleo de Mensajero - Motorizado</td>\n",
       "      <td>Reconocida compañía Importadora requiere Mensa...</td>\n",
       "      <td>NaN</td>\n",
       "    </tr>\n",
       "    <tr>\n",
       "      <th>3</th>\n",
       "      <td>Hoy, 10:56 a. m.</td>\n",
       "      <td>Empleo de Asesor de Repuestos, Filtros y Lubri...</td>\n",
       "      <td>Se necesita persona con PERFIL COMERCIAL y exp...</td>\n",
       "      <td>TECNODIESEL S.A.S</td>\n",
       "    </tr>\n",
       "    <tr>\n",
       "      <th>4</th>\n",
       "      <td>Hoy, 10:53 a. m.</td>\n",
       "      <td>Empleo de conductor con licencia c2 o c3 urgen...</td>\n",
       "      <td>importante empresa de consumo masivo requiere ...</td>\n",
       "      <td>PROCESOS TERCERIZADOS S.A.S</td>\n",
       "    </tr>\n",
       "  </tbody>\n",
       "</table>\n",
       "</div>"
      ],
      "text/plain": [
       "              Fecha                                             Titulo  \\\n",
       "0  Hoy, 11:06 a. m.  Empleo de Convocatoria laboral técnico en inst...   \n",
       "1  Hoy, 11:01 a. m.           Empleo de Coordinador Comercial Apartado   \n",
       "2  Hoy, 11:01 a. m.                   Empleo de Mensajero - Motorizado   \n",
       "3  Hoy, 10:56 a. m.  Empleo de Asesor de Repuestos, Filtros y Lubri...   \n",
       "4  Hoy, 10:53 a. m.  Empleo de conductor con licencia c2 o c3 urgen...   \n",
       "\n",
       "                                          Desripcion  \\\n",
       "0  Si eres bachiller, técnico o tecnologo con exp...   \n",
       "1  Empresa de telecomunicaciones requiere Coordin...   \n",
       "2  Reconocida compañía Importadora requiere Mensa...   \n",
       "3  Se necesita persona con PERFIL COMERCIAL y exp...   \n",
       "4  importante empresa de consumo masivo requiere ...   \n",
       "\n",
       "                        Empresa  \n",
       "0                     HQ5 S.A.S  \n",
       "1               SU TEMPORAL S.A  \n",
       "2                           NaN  \n",
       "3             TECNODIESEL S.A.S  \n",
       "4   PROCESOS TERCERIZADOS S.A.S  "
      ]
     },
     "execution_count": 5,
     "metadata": {},
     "output_type": "execute_result"
    }
   ],
   "source": [
    "df.head()"
   ]
  },
  {
   "cell_type": "markdown",
   "metadata": {},
   "source": [
    " # Analisis del texto \"Titulo de la vacante \"\n",
    " \n",
    " Vamos a crear el dataset que vamos a tokenizar para investigar ¿Cuales son los trabajos mas frecuentes de acuerdo al titulo de la vacante ?"
   ]
  },
  {
   "cell_type": "code",
   "execution_count": 6,
   "metadata": {},
   "outputs": [
    {
     "data": {
      "text/plain": [
       "14260"
      ]
     },
     "execution_count": 6,
     "metadata": {},
     "output_type": "execute_result"
    }
   ],
   "source": [
    "df['Titulo'].count()"
   ]
  },
  {
   "cell_type": "code",
   "execution_count": 7,
   "metadata": {},
   "outputs": [],
   "source": [
    "texto=''\n",
    "for i in range(14260):\n",
    "    texto= texto + ' ' +df['Titulo'][i]"
   ]
  },
  {
   "cell_type": "code",
   "execution_count": 8,
   "metadata": {},
   "outputs": [
    {
     "data": {
      "text/plain": [
       "820104"
      ]
     },
     "execution_count": 8,
     "metadata": {},
     "output_type": "execute_result"
    }
   ],
   "source": [
    "len(texto) # 820104 palabras"
   ]
  },
  {
   "cell_type": "markdown",
   "metadata": {},
   "source": [
    "# Eliminamos \"Stopwords\""
   ]
  },
  {
   "cell_type": "code",
   "execution_count": 9,
   "metadata": {},
   "outputs": [],
   "source": [
    "stopWords = set(stopwords.words('spanish')) # eliminar palabras irrelevantes\n",
    "words = word_tokenize(texto)\n",
    "wordsFiltered = []\n",
    " \n",
    "for w in words:\n",
    "    if w not in stopWords:\n",
    "        wordsFiltered.append(w)"
   ]
  },
  {
   "cell_type": "code",
   "execution_count": 10,
   "metadata": {},
   "outputs": [],
   "source": [
    "diccio=nltk.Counter(wordsFiltered)\n",
    "hola=dict(diccio) # Convertimos nuestra respuesta en un diccionario"
   ]
  },
  {
   "cell_type": "code",
   "execution_count": 11,
   "metadata": {},
   "outputs": [],
   "source": [
    "valores=hola.values()\n",
    "filas=hola.keys()\n",
    "filas=list(filas) # Converción a lista  \n",
    "valores=list(valores) # Conversión a lista "
   ]
  },
  {
   "cell_type": "code",
   "execution_count": 12,
   "metadata": {},
   "outputs": [],
   "source": [
    "# Creamos un  DataFrame con las palabras comunes\n",
    "\n",
    "df_pal = pd.DataFrame([[key, hola[key]] for key in hola.keys()], columns=['Word','Frequency_words'])"
   ]
  },
  {
   "cell_type": "code",
   "execution_count": 13,
   "metadata": {},
   "outputs": [
    {
     "data": {
      "text/html": [
       "<div>\n",
       "<style scoped>\n",
       "    .dataframe tbody tr th:only-of-type {\n",
       "        vertical-align: middle;\n",
       "    }\n",
       "\n",
       "    .dataframe tbody tr th {\n",
       "        vertical-align: top;\n",
       "    }\n",
       "\n",
       "    .dataframe thead th {\n",
       "        text-align: right;\n",
       "    }\n",
       "</style>\n",
       "<table border=\"1\" class=\"dataframe\">\n",
       "  <thead>\n",
       "    <tr style=\"text-align: right;\">\n",
       "      <th></th>\n",
       "      <th>Word</th>\n",
       "      <th>Frequency_words</th>\n",
       "    </tr>\n",
       "  </thead>\n",
       "  <tbody>\n",
       "    <tr>\n",
       "      <th>0</th>\n",
       "      <td>Empleo</td>\n",
       "      <td>14260</td>\n",
       "    </tr>\n",
       "    <tr>\n",
       "      <th>10</th>\n",
       "      <td>-</td>\n",
       "      <td>9736</td>\n",
       "    </tr>\n",
       "    <tr>\n",
       "      <th>40</th>\n",
       "      <td>experiencia</td>\n",
       "      <td>1891</td>\n",
       "    </tr>\n",
       "    <tr>\n",
       "      <th>33</th>\n",
       "      <td>Auxiliar</td>\n",
       "      <td>1631</td>\n",
       "    </tr>\n",
       "    <tr>\n",
       "      <th>12</th>\n",
       "      <td>Asesor</td>\n",
       "      <td>1248</td>\n",
       "    </tr>\n",
       "    <tr>\n",
       "      <th>25</th>\n",
       "      <td>comercial</td>\n",
       "      <td>963</td>\n",
       "    </tr>\n",
       "    <tr>\n",
       "      <th>192</th>\n",
       "      <td>Medellin</td>\n",
       "      <td>801</td>\n",
       "    </tr>\n",
       "    <tr>\n",
       "      <th>14</th>\n",
       "      <td>,</td>\n",
       "      <td>723</td>\n",
       "    </tr>\n",
       "    <tr>\n",
       "      <th>31</th>\n",
       "      <td>Con</td>\n",
       "      <td>711</td>\n",
       "    </tr>\n",
       "    <tr>\n",
       "      <th>7</th>\n",
       "      <td>Comercial</td>\n",
       "      <td>671</td>\n",
       "    </tr>\n",
       "  </tbody>\n",
       "</table>\n",
       "</div>"
      ],
      "text/plain": [
       "            Word  Frequency_words\n",
       "0         Empleo            14260\n",
       "10             -             9736\n",
       "40   experiencia             1891\n",
       "33      Auxiliar             1631\n",
       "12        Asesor             1248\n",
       "25     comercial              963\n",
       "192     Medellin              801\n",
       "14             ,              723\n",
       "31           Con              711\n",
       "7      Comercial              671"
      ]
     },
     "execution_count": 13,
     "metadata": {},
     "output_type": "execute_result"
    }
   ],
   "source": [
    "df_pal.sort_values(by='Frequency_words',ascending=False).head(10)"
   ]
  },
  {
   "cell_type": "markdown",
   "metadata": {},
   "source": [
    "# Eliminamos palabras obvias de busqueda de empleo como:\n",
    "\n",
    "* Empleo\n",
    "* Convocatoria\n",
    "* -,1,6\n",
    "* Con\n",
    "* experiencia\n",
    "* año , años \n",
    "* requiere, entre muchas otras...."
   ]
  },
  {
   "cell_type": "code",
   "execution_count": 14,
   "metadata": {},
   "outputs": [],
   "source": [
    "df_pal=df_pal[(df_pal['Word'] != 'Empleo') & (df_pal['Word'] != ',') & (df_pal['Word'] != '1') & (df_pal['Word'] != '6') & (df_pal['Word'] != 'Con') & (df_pal['Word'] != 'experiencia') & (df_pal['Word'] != 'Medellin') & (df_pal['Word'] != \"año\") & (df_pal['Word'] != 'años') & (df_pal['Word'] != 'Rionegro') & (df_pal['Word'] != 'requiere') & (df_pal['Word'] != '-') & (df_pal['Word'] != 'Medellín') & (df_pal['Word'] != 'meses') & (df_pal['Word'] != '(') & (df_pal['Word'] != ')') & (df_pal['Word'] != 'Se') & (df_pal['Word'] != '/') & (df_pal['Word'] != '.')  & (df_pal['Word'] != 'Antioquia')  & (df_pal['Word'] != 'Urgente')  & (df_pal['Word'] != 'De')  & (df_pal['Word'] != 'C2')  & (df_pal['Word'] != '2')  & (df_pal['Word'] != 'Para')  & (df_pal['Word'] != 'En')  & (df_pal['Word'] != 'licencia')  & (df_pal['Word'] != '3')  & (df_pal['Word'] != 'empresa')  & (df_pal['Word'] != 'Experiencia')]"
   ]
  },
  {
   "cell_type": "markdown",
   "metadata": {},
   "source": [
    "# Agrupamientos cargos repetidos"
   ]
  },
  {
   "cell_type": "code",
   "execution_count": 15,
   "metadata": {},
   "outputs": [],
   "source": [
    "df_pal.loc[df_pal['Word'] == 'auxiliar' , 'Word']='Auxiliar'\n",
    "df_pal.loc[df_pal['Word'] == 'comercial' , 'Word']='Comercial'"
   ]
  },
  {
   "cell_type": "code",
   "execution_count": 16,
   "metadata": {},
   "outputs": [
    {
     "data": {
      "text/html": [
       "<div>\n",
       "<style scoped>\n",
       "    .dataframe tbody tr th:only-of-type {\n",
       "        vertical-align: middle;\n",
       "    }\n",
       "\n",
       "    .dataframe tbody tr th {\n",
       "        vertical-align: top;\n",
       "    }\n",
       "\n",
       "    .dataframe thead th {\n",
       "        text-align: right;\n",
       "    }\n",
       "</style>\n",
       "<table border=\"1\" class=\"dataframe\">\n",
       "  <thead>\n",
       "    <tr style=\"text-align: right;\">\n",
       "      <th></th>\n",
       "      <th>Word</th>\n",
       "      <th>Frequency_words</th>\n",
       "    </tr>\n",
       "  </thead>\n",
       "  <tbody>\n",
       "    <tr>\n",
       "      <th>0</th>\n",
       "      <td>Auxiliar</td>\n",
       "      <td>1962</td>\n",
       "    </tr>\n",
       "    <tr>\n",
       "      <th>1</th>\n",
       "      <td>Comercial</td>\n",
       "      <td>1634</td>\n",
       "    </tr>\n",
       "    <tr>\n",
       "      <th>2</th>\n",
       "      <td>Asesor</td>\n",
       "      <td>1248</td>\n",
       "    </tr>\n",
       "    <tr>\n",
       "      <th>3</th>\n",
       "      <td>Técnico</td>\n",
       "      <td>553</td>\n",
       "    </tr>\n",
       "    <tr>\n",
       "      <th>4</th>\n",
       "      <td>Analista</td>\n",
       "      <td>505</td>\n",
       "    </tr>\n",
       "    <tr>\n",
       "      <th>5</th>\n",
       "      <td>ventas</td>\n",
       "      <td>452</td>\n",
       "    </tr>\n",
       "    <tr>\n",
       "      <th>6</th>\n",
       "      <td>Conductor</td>\n",
       "      <td>437</td>\n",
       "    </tr>\n",
       "    <tr>\n",
       "      <th>7</th>\n",
       "      <td>Operario</td>\n",
       "      <td>436</td>\n",
       "    </tr>\n",
       "    <tr>\n",
       "      <th>8</th>\n",
       "      <td>moto</td>\n",
       "      <td>435</td>\n",
       "    </tr>\n",
       "    <tr>\n",
       "      <th>9</th>\n",
       "      <td>Ejecutivo</td>\n",
       "      <td>424</td>\n",
       "    </tr>\n",
       "    <tr>\n",
       "      <th>10</th>\n",
       "      <td>Coordinador</td>\n",
       "      <td>416</td>\n",
       "    </tr>\n",
       "    <tr>\n",
       "      <th>11</th>\n",
       "      <td>Practicante</td>\n",
       "      <td>320</td>\n",
       "    </tr>\n",
       "    <tr>\n",
       "      <th>12</th>\n",
       "      <td>Vendedor</td>\n",
       "      <td>301</td>\n",
       "    </tr>\n",
       "    <tr>\n",
       "      <th>13</th>\n",
       "      <td>sector</td>\n",
       "      <td>295</td>\n",
       "    </tr>\n",
       "    <tr>\n",
       "      <th>14</th>\n",
       "      <td>producción</td>\n",
       "      <td>293</td>\n",
       "    </tr>\n",
       "    <tr>\n",
       "      <th>15</th>\n",
       "      <td>Ingeniero</td>\n",
       "      <td>287</td>\n",
       "    </tr>\n",
       "    <tr>\n",
       "      <th>16</th>\n",
       "      <td>Aprendiz</td>\n",
       "      <td>274</td>\n",
       "    </tr>\n",
       "    <tr>\n",
       "      <th>17</th>\n",
       "      <td>servicio</td>\n",
       "      <td>266</td>\n",
       "    </tr>\n",
       "    <tr>\n",
       "      <th>18</th>\n",
       "      <td>venta</td>\n",
       "      <td>258</td>\n",
       "    </tr>\n",
       "    <tr>\n",
       "      <th>19</th>\n",
       "      <td>Supervisor</td>\n",
       "      <td>239</td>\n",
       "    </tr>\n",
       "  </tbody>\n",
       "</table>\n",
       "</div>"
      ],
      "text/plain": [
       "           Word  Frequency_words\n",
       "0      Auxiliar             1962\n",
       "1     Comercial             1634\n",
       "2        Asesor             1248\n",
       "3       Técnico              553\n",
       "4      Analista              505\n",
       "5        ventas              452\n",
       "6     Conductor              437\n",
       "7      Operario              436\n",
       "8          moto              435\n",
       "9     Ejecutivo              424\n",
       "10  Coordinador              416\n",
       "11  Practicante              320\n",
       "12     Vendedor              301\n",
       "13       sector              295\n",
       "14   producción              293\n",
       "15    Ingeniero              287\n",
       "16     Aprendiz              274\n",
       "17     servicio              266\n",
       "18        venta              258\n",
       "19   Supervisor              239"
      ]
     },
     "execution_count": 16,
     "metadata": {},
     "output_type": "execute_result"
    }
   ],
   "source": [
    "test=df_pal.groupby(by='Word').sum().sort_values(by='Frequency_words',ascending=False).head(20)\n",
    "df_top_20=test.reset_index(inplace=False)\n",
    "df_top_20"
   ]
  },
  {
   "cell_type": "markdown",
   "metadata": {},
   "source": [
    "# Visualización cargos mas frecuentes \n",
    "\n",
    "Cargos mas frecuentes en función del **`titulo de la vacante`**"
   ]
  },
  {
   "cell_type": "code",
   "execution_count": 17,
   "metadata": {},
   "outputs": [
    {
     "data": {
      "text/plain": [
       "<matplotlib.axes._subplots.AxesSubplot at 0x7f7af6ab9a20>"
      ]
     },
     "execution_count": 17,
     "metadata": {},
     "output_type": "execute_result"
    },
    {
     "data": {
      "image/png": "[encoded data removed]",
      "text/plain": [
       "<Figure size 432x288 with 1 Axes>"
      ]
     },
     "metadata": {},
     "output_type": "display_data"
    }
   ],
   "source": [
    "sns.set_style(style='darkgrid')\n",
    "top_20_Qword=df_top_20\n",
    "plt.title('Common words of our students')\n",
    "sns.barplot(data=top_20_Qword,x='Frequency_words',y='Word')"
   ]
  },
  {
   "cell_type": "code",
   "execution_count": null,
   "metadata": {},
   "outputs": [],
   "source": []
  },
  {
   "cell_type": "markdown",
   "metadata": {},
   "source": [
    "# FINAL......"
   ]
  },
  {
   "cell_type": "code",
   "execution_count": null,
   "metadata": {},
   "outputs": [],
   "source": []
  }
 ],
 "metadata": {
  "kernelspec": {
   "display_name": "Python 3",
   "language": "python",
   "name": "python3"
  },
  "language_info": {
   "codemirror_mode": {
    "name": "ipython",
    "version": 3
   },
   "file_extension": ".py",
   "mimetype": "text/x-python",
   "name": "python",
   "nbconvert_exporter": "python",
   "pygments_lexer": "ipython3",
   "version": "3.7.1"
  }
 },
 "nbformat": 4,
 "nbformat_minor": 2
}
