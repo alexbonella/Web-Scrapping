{
 "cells": [
  {
   "cell_type": "code",
   "execution_count": 1,
   "metadata": {},
   "outputs": [],
   "source": [
    "import requests\n",
    "import numpy as np\n",
    "import pandas as pd\n",
    "import seaborn as sns \n",
    "from bs4 import BeautifulSoup \n",
    "import matplotlib.pyplot as plt\n",
    "%matplotlib inline"
   ]
  },
  {
   "cell_type": "code",
   "execution_count": 2,
   "metadata": {},
   "outputs": [],
   "source": [
    "r=requests.get('https://www.spe.org/events/en/2019/conference/19rsc/schedule-overview.html#type-ts')"
   ]
  },
  {
   "cell_type": "code",
   "execution_count": 3,
   "metadata": {},
   "outputs": [],
   "source": [
    "#Realizamos el parsing con  Beautifulsoup"
   ]
  },
  {
   "cell_type": "code",
   "execution_count": 4,
   "metadata": {},
   "outputs": [],
   "source": [
    "soup = BeautifulSoup(r.text, 'html.parser')"
   ]
  },
  {
   "cell_type": "code",
   "execution_count": 5,
   "metadata": {},
   "outputs": [],
   "source": [
    "session_number= soup.find_all('span', attrs={'session-number'})"
   ]
  },
  {
   "cell_type": "code",
   "execution_count": 6,
   "metadata": {},
   "outputs": [
    {
     "data": {
      "text/plain": [
       "'01'"
      ]
     },
     "execution_count": 6,
     "metadata": {},
     "output_type": "execute_result"
    }
   ],
   "source": [
    "session_number[0].text  # Numero de la sesion"
   ]
  },
  {
   "cell_type": "code",
   "execution_count": 7,
   "metadata": {},
   "outputs": [],
   "source": [
    "agenda= soup.find_all('section', attrs={'agenda-item primary-type-ts type-ts type-Technical'})"
   ]
  },
  {
   "cell_type": "code",
   "execution_count": 8,
   "metadata": {},
   "outputs": [
    {
     "data": {
      "text/plain": [
       "'08:30 - 09:50'"
      ]
     },
     "execution_count": 8,
     "metadata": {},
     "output_type": "execute_result"
    }
   ],
   "source": [
    "agenda[0].text.split('\\n')[1] # Hora de conferencia"
   ]
  },
  {
   "cell_type": "code",
   "execution_count": 9,
   "metadata": {},
   "outputs": [
    {
     "data": {
      "text/plain": [
       "'Data Analytics'"
      ]
     },
     "execution_count": 9,
     "metadata": {},
     "output_type": "execute_result"
    }
   ],
   "source": [
    "# Nombre de la sesion\n",
    "\n",
    "agenda[0].text.split('\\n')[6].split()[0] + ' ' +  agenda[0].text.split('\\n')[6].split()[1]"
   ]
  },
  {
   "cell_type": "code",
   "execution_count": 10,
   "metadata": {},
   "outputs": [],
   "source": [
    "# Descripción de las sesiones\n",
    "\n",
    "Desc_ses= soup.find_all('div', attrs={'session-description'})"
   ]
  },
  {
   "cell_type": "code",
   "execution_count": 11,
   "metadata": {},
   "outputs": [
    {
     "data": {
      "text/plain": [
       "'Probabilistic and robust data-driven methods promise to enable practical prediction and optimization of large-scale energy operations. The development of computationally efficient hybrid approaches that combine models of the underlying physics with data-driven techniques (e.g. reduced order modeling) is essential to delivering good on this promise. The validation of the predictive power and efficacy of such models can pave the path towards ubiquitous adoption.'"
      ]
     },
     "execution_count": 11,
     "metadata": {},
     "output_type": "execute_result"
    }
   ],
   "source": [
    "Desc_ses[2].text"
   ]
  },
  {
   "cell_type": "code",
   "execution_count": 12,
   "metadata": {},
   "outputs": [],
   "source": [
    "# DataFrames sesiones "
   ]
  },
  {
   "cell_type": "code",
   "execution_count": 13,
   "metadata": {},
   "outputs": [],
   "source": [
    "Numero=range(1,17)"
   ]
  },
  {
   "cell_type": "code",
   "execution_count": 14,
   "metadata": {},
   "outputs": [
    {
     "data": {
      "text/plain": [
       "2"
      ]
     },
     "execution_count": 14,
     "metadata": {},
     "output_type": "execute_result"
    }
   ],
   "source": [
    "Numero[1]"
   ]
  },
  {
   "cell_type": "markdown",
   "metadata": {},
   "source": [
    "# DataFrame Sesiones del evento"
   ]
  },
  {
   "cell_type": "code",
   "execution_count": 15,
   "metadata": {},
   "outputs": [],
   "source": [
    "Number=[]\n",
    "Sesion_name=[]\n",
    "Desc=[]\n",
    "df_sesion=[]\n",
    "for i in range (16):\n",
    "    Number=Numero[i]\n",
    "    Sesion_name=agenda[i].text.split('\\n')[6].split()[0] + ' ' +  agenda[i].text.split('\\n')[6].split()[1]\n",
    "    Desc=Desc_ses[i+2].text\n",
    "    df_sesion.append((Number,Sesion_name,Desc))\n"
   ]
  },
  {
   "cell_type": "code",
   "execution_count": 16,
   "metadata": {},
   "outputs": [
    {
     "data": {
      "text/html": [
       "<div>\n",
       "<style scoped>\n",
       "    .dataframe tbody tr th:only-of-type {\n",
       "        vertical-align: middle;\n",
       "    }\n",
       "\n",
       "    .dataframe tbody tr th {\n",
       "        vertical-align: top;\n",
       "    }\n",
       "\n",
       "    .dataframe thead th {\n",
       "        text-align: right;\n",
       "    }\n",
       "</style>\n",
       "<table border=\"1\" class=\"dataframe\">\n",
       "  <thead>\n",
       "    <tr style=\"text-align: right;\">\n",
       "      <th></th>\n",
       "      <th>Number</th>\n",
       "      <th>Sesion_name</th>\n",
       "      <th>Desc</th>\n",
       "    </tr>\n",
       "  </thead>\n",
       "  <tbody>\n",
       "    <tr>\n",
       "      <th>0</th>\n",
       "      <td>1</td>\n",
       "      <td>Data Analytics</td>\n",
       "      <td>Probabilistic and robust data-driven methods p...</td>\n",
       "    </tr>\n",
       "    <tr>\n",
       "      <th>1</th>\n",
       "      <td>2</td>\n",
       "      <td>Discretization I</td>\n",
       "      <td>This session includes papers on the thermodyna...</td>\n",
       "    </tr>\n",
       "    <tr>\n",
       "      <th>2</th>\n",
       "      <td>3</td>\n",
       "      <td>High-Performance Computing</td>\n",
       "      <td>Recent advances in modern parallel computing a...</td>\n",
       "    </tr>\n",
       "    <tr>\n",
       "      <th>3</th>\n",
       "      <td>4</td>\n",
       "      <td>Gridding, Upscaling</td>\n",
       "      <td>This session discusses a number of multiscale ...</td>\n",
       "    </tr>\n",
       "    <tr>\n",
       "      <th>4</th>\n",
       "      <td>5</td>\n",
       "      <td>Integrated Modeling</td>\n",
       "      <td>Poster authors will present, Wednesday and Thu...</td>\n",
       "    </tr>\n",
       "    <tr>\n",
       "      <th>5</th>\n",
       "      <td>6</td>\n",
       "      <td>Geomechanics and</td>\n",
       "      <td>Reservoir simulation often needs to be tailore...</td>\n",
       "    </tr>\n",
       "    <tr>\n",
       "      <th>6</th>\n",
       "      <td>7</td>\n",
       "      <td>Forecasting, Optimization</td>\n",
       "      <td>Geomechanics plays an important role on the ec...</td>\n",
       "    </tr>\n",
       "    <tr>\n",
       "      <th>7</th>\n",
       "      <td>8</td>\n",
       "      <td>Complex Processes</td>\n",
       "      <td>Models are built to make predictions and reser...</td>\n",
       "    </tr>\n",
       "    <tr>\n",
       "      <th>8</th>\n",
       "      <td>9</td>\n",
       "      <td>Data Assimilation</td>\n",
       "      <td>Increasing energy demand has led to the develo...</td>\n",
       "    </tr>\n",
       "    <tr>\n",
       "      <th>9</th>\n",
       "      <td>10</td>\n",
       "      <td>Discretization II</td>\n",
       "      <td>Data assimilation and uncertainty quantificati...</td>\n",
       "    </tr>\n",
       "    <tr>\n",
       "      <th>10</th>\n",
       "      <td>11</td>\n",
       "      <td>Linear and</td>\n",
       "      <td>The accurate spatial and temporal discretizati...</td>\n",
       "    </tr>\n",
       "    <tr>\n",
       "      <th>11</th>\n",
       "      <td>12</td>\n",
       "      <td>Gridding, Upscaling</td>\n",
       "      <td>Latest challenges in reservoir simulation are ...</td>\n",
       "    </tr>\n",
       "    <tr>\n",
       "      <th>12</th>\n",
       "      <td>13</td>\n",
       "      <td>Integrated Modeling</td>\n",
       "      <td>This session discusses aggregation-based metho...</td>\n",
       "    </tr>\n",
       "    <tr>\n",
       "      <th>13</th>\n",
       "      <td>14</td>\n",
       "      <td>Geomechanics and</td>\n",
       "      <td>Poster authors will present, Wednesday and Thu...</td>\n",
       "    </tr>\n",
       "    <tr>\n",
       "      <th>14</th>\n",
       "      <td>15</td>\n",
       "      <td>Reduced and</td>\n",
       "      <td>Continuing the focus on integrated modeling an...</td>\n",
       "    </tr>\n",
       "    <tr>\n",
       "      <th>15</th>\n",
       "      <td>16</td>\n",
       "      <td>Complex Processes</td>\n",
       "      <td>This session focuses on geomechanical behavior...</td>\n",
       "    </tr>\n",
       "  </tbody>\n",
       "</table>\n",
       "</div>"
      ],
      "text/plain": [
       "    Number                 Sesion_name  \\\n",
       "0        1              Data Analytics   \n",
       "1        2            Discretization I   \n",
       "2        3  High-Performance Computing   \n",
       "3        4         Gridding, Upscaling   \n",
       "4        5         Integrated Modeling   \n",
       "5        6            Geomechanics and   \n",
       "6        7   Forecasting, Optimization   \n",
       "7        8           Complex Processes   \n",
       "8        9           Data Assimilation   \n",
       "9       10           Discretization II   \n",
       "10      11                  Linear and   \n",
       "11      12         Gridding, Upscaling   \n",
       "12      13         Integrated Modeling   \n",
       "13      14            Geomechanics and   \n",
       "14      15                 Reduced and   \n",
       "15      16           Complex Processes   \n",
       "\n",
       "                                                 Desc  \n",
       "0   Probabilistic and robust data-driven methods p...  \n",
       "1   This session includes papers on the thermodyna...  \n",
       "2   Recent advances in modern parallel computing a...  \n",
       "3   This session discusses a number of multiscale ...  \n",
       "4   Poster authors will present, Wednesday and Thu...  \n",
       "5   Reservoir simulation often needs to be tailore...  \n",
       "6   Geomechanics plays an important role on the ec...  \n",
       "7   Models are built to make predictions and reser...  \n",
       "8   Increasing energy demand has led to the develo...  \n",
       "9   Data assimilation and uncertainty quantificati...  \n",
       "10  The accurate spatial and temporal discretizati...  \n",
       "11  Latest challenges in reservoir simulation are ...  \n",
       "12  This session discusses aggregation-based metho...  \n",
       "13  Poster authors will present, Wednesday and Thu...  \n",
       "14  Continuing the focus on integrated modeling an...  \n",
       "15  This session focuses on geomechanical behavior...  "
      ]
     },
     "execution_count": 16,
     "metadata": {},
     "output_type": "execute_result"
    }
   ],
   "source": [
    "df = pd.DataFrame(df_sesion, columns=['Number','Sesion_name','Desc'])\n",
    "df"
   ]
  },
  {
   "cell_type": "markdown",
   "metadata": {},
   "source": [
    "# Extracción de los papers"
   ]
  },
  {
   "cell_type": "code",
   "execution_count": 17,
   "metadata": {},
   "outputs": [],
   "source": [
    "papers_number= soup.find_all('span', attrs={'paper-number'})   "
   ]
  },
  {
   "cell_type": "code",
   "execution_count": 18,
   "metadata": {},
   "outputs": [
    {
     "data": {
      "text/plain": [
       "104"
      ]
     },
     "execution_count": 18,
     "metadata": {},
     "output_type": "execute_result"
    }
   ],
   "source": [
    "len(papers_number)  # En total tenemos 104 papers"
   ]
  },
  {
   "cell_type": "code",
   "execution_count": 19,
   "metadata": {},
   "outputs": [
    {
     "data": {
      "text/plain": [
       "'193831'"
      ]
     },
     "execution_count": 19,
     "metadata": {},
     "output_type": "execute_result"
    }
   ],
   "source": [
    "papers_number[0].text # Numero de paper"
   ]
  },
  {
   "cell_type": "code",
   "execution_count": 20,
   "metadata": {},
   "outputs": [],
   "source": [
    "papers_title= soup.find_all('span', attrs={'paper-title'})  "
   ]
  },
  {
   "cell_type": "code",
   "execution_count": 21,
   "metadata": {},
   "outputs": [
    {
     "data": {
      "text/plain": [
       "'Non-Intrusive Reduced Order Modelling for Reconstruction of Saturation Distributions'"
      ]
     },
     "execution_count": 21,
     "metadata": {},
     "output_type": "execute_result"
    }
   ],
   "source": [
    "papers_title[0].text# Titulo del paper"
   ]
  },
  {
   "cell_type": "code",
   "execution_count": 22,
   "metadata": {},
   "outputs": [],
   "source": [
    "autor_title= soup.find_all('span', attrs={'paper-authors'})  "
   ]
  },
  {
   "cell_type": "code",
   "execution_count": 23,
   "metadata": {},
   "outputs": [
    {
     "data": {
      "text/plain": [
       "'W.J. Kostorz A.H. Muggeridge M.D. Jackson Imperial College London; A. Moncorge'"
      ]
     },
     "execution_count": 23,
     "metadata": {},
     "output_type": "execute_result"
    }
   ],
   "source": [
    "\"\".join(autor_title[0].text.split(',')[:-1]) # Autores del paper"
   ]
  },
  {
   "cell_type": "code",
   "execution_count": 24,
   "metadata": {},
   "outputs": [
    {
     "data": {
      "text/plain": [
       "' Total E&P UK Ltd'"
      ]
     },
     "execution_count": 24,
     "metadata": {},
     "output_type": "execute_result"
    }
   ],
   "source": [
    "autor_title[0].text.split(',')[-1]  # Compañia "
   ]
  },
  {
   "cell_type": "markdown",
   "metadata": {},
   "source": [
    "# Creación del DataFrame Papers"
   ]
  },
  {
   "cell_type": "code",
   "execution_count": 25,
   "metadata": {},
   "outputs": [],
   "source": [
    "Number_paper=[]\n",
    "Paper_Title=[]\n",
    "Autor=[]\n",
    "company=[]\n",
    "df_paper=[]\n",
    "for i in range (104):\n",
    "    Number_paper=papers_number[i].text\n",
    "    Paper_Title=papers_title[i].text\n",
    "    Autor=\"\".join(autor_title[i].text.split(',')[:-1])\n",
    "    company=autor_title[i].text.split(',')[-1]\n",
    "    df_paper.append((Number_paper,Paper_Title,Autor,company))"
   ]
  },
  {
   "cell_type": "code",
   "execution_count": 26,
   "metadata": {},
   "outputs": [],
   "source": [
    "df_paper=pd.DataFrame(df_paper,columns=['Number_paper','Papers_title','Autor','Company'])"
   ]
  },
  {
   "cell_type": "code",
   "execution_count": 27,
   "metadata": {},
   "outputs": [
    {
     "data": {
      "text/html": [
       "<div>\n",
       "<style scoped>\n",
       "    .dataframe tbody tr th:only-of-type {\n",
       "        vertical-align: middle;\n",
       "    }\n",
       "\n",
       "    .dataframe tbody tr th {\n",
       "        vertical-align: top;\n",
       "    }\n",
       "\n",
       "    .dataframe thead th {\n",
       "        text-align: right;\n",
       "    }\n",
       "</style>\n",
       "<table border=\"1\" class=\"dataframe\">\n",
       "  <thead>\n",
       "    <tr style=\"text-align: right;\">\n",
       "      <th></th>\n",
       "      <th>Number_paper</th>\n",
       "      <th>Papers_title</th>\n",
       "      <th>Autor</th>\n",
       "      <th>Company</th>\n",
       "    </tr>\n",
       "  </thead>\n",
       "  <tbody>\n",
       "    <tr>\n",
       "      <th>0</th>\n",
       "      <td>193831</td>\n",
       "      <td>Non-Intrusive Reduced Order Modelling for Reco...</td>\n",
       "      <td>W.J. Kostorz A.H. Muggeridge M.D. Jackson Impe...</td>\n",
       "      <td>Total E&amp;P UK Ltd</td>\n",
       "    </tr>\n",
       "    <tr>\n",
       "      <th>1</th>\n",
       "      <td>193878</td>\n",
       "      <td>Accelerated Compositional Simulation of Tight ...</td>\n",
       "      <td>S. Wang Colorado School of Mines; N. Sobecki D...</td>\n",
       "      <td>Schlumberger Doll Research Center</td>\n",
       "    </tr>\n",
       "    <tr>\n",
       "      <th>2</th>\n",
       "      <td>193904</td>\n",
       "      <td>Data-Driven Discovery of Unconventional Shale ...</td>\n",
       "      <td>H.M. Klie DeepCast; H. Florez</td>\n",
       "      <td>Texas A&amp;M University</td>\n",
       "    </tr>\n",
       "    <tr>\n",
       "      <th>3</th>\n",
       "      <td>193912</td>\n",
       "      <td>Deep Model Reduction-Model Learning for Reserv...</td>\n",
       "      <td>J. Zhang S. Cheung Y. Efendiev E. Gildin Texas...</td>\n",
       "      <td>The Chinese University of Hong Kong</td>\n",
       "    </tr>\n",
       "    <tr>\n",
       "      <th>4</th>\n",
       "      <td>193848</td>\n",
       "      <td>IOR Pilot Evaluation In Brown-field Fractured ...</td>\n",
       "      <td>J. He M. Hui</td>\n",
       "      <td>Chevron ETC</td>\n",
       "    </tr>\n",
       "    <tr>\n",
       "      <th>5</th>\n",
       "      <td>193811</td>\n",
       "      <td>Artificial Neural Network Modeling of Compacti...</td>\n",
       "      <td>E. Fedutenko L.X. Nghiem C. Yang T. Chen M. Seifi</td>\n",
       "      <td>Computer Modelling Group Ltd.</td>\n",
       "    </tr>\n",
       "    <tr>\n",
       "      <th>6</th>\n",
       "      <td>193888</td>\n",
       "      <td>Thermodynamic Stability Analysis of Multi-Comp...</td>\n",
       "      <td>S.S. Neshat R. Okuno G.A. Pope</td>\n",
       "      <td>The University of Texas At Austin</td>\n",
       "    </tr>\n",
       "    <tr>\n",
       "      <th>7</th>\n",
       "      <td>193906</td>\n",
       "      <td>Flexible Discretizations Of The Three-componen...</td>\n",
       "      <td>L. Cappanera B. Riviere</td>\n",
       "      <td>Rice University</td>\n",
       "    </tr>\n",
       "    <tr>\n",
       "      <th>8</th>\n",
       "      <td>193934</td>\n",
       "      <td>Implicit High-Resolution Compositional Simulat...</td>\n",
       "      <td>Ø.S. Klemetsdal O. Møyner Norwegian University...</td>\n",
       "      <td>SINTEF Digital</td>\n",
       "    </tr>\n",
       "    <tr>\n",
       "      <th>9</th>\n",
       "      <td>193817</td>\n",
       "      <td>Von Neumann Stable, Implicit, High Order, Fini...</td>\n",
       "      <td>T.J. Arbogast The University of Texas At Austi...</td>\n",
       "      <td>The University of Texas at Austin</td>\n",
       "    </tr>\n",
       "    <tr>\n",
       "      <th>10</th>\n",
       "      <td>193853</td>\n",
       "      <td>Boundary Segments for Multisegment Well Models</td>\n",
       "      <td>T.W. Stone F. McKee C. Istchenko</td>\n",
       "      <td>Schlumberger</td>\n",
       "    </tr>\n",
       "    <tr>\n",
       "      <th>11</th>\n",
       "      <td>193905</td>\n",
       "      <td>Modelling of Electromagnetic Heating Process a...</td>\n",
       "      <td>D. Ji T. Harding Z. Chen M. Dong H. Liu</td>\n",
       "      <td>University of Calgary</td>\n",
       "    </tr>\n",
       "    <tr>\n",
       "      <th>12</th>\n",
       "      <td>193880</td>\n",
       "      <td>A Massively Parallel Algebraic Multiscale Solv...</td>\n",
       "      <td>A.M. Manea T.M. Almani</td>\n",
       "      <td>Saudi Aramco</td>\n",
       "    </tr>\n",
       "    <tr>\n",
       "      <th>13</th>\n",
       "      <td>193872</td>\n",
       "      <td>An Adaptive Preconditioning Strategy to Speed ...</td>\n",
       "      <td>K. Wang H. Liu University of Calgary; L. Yan E...</td>\n",
       "      <td>University of Calgary</td>\n",
       "    </tr>\n",
       "    <tr>\n",
       "      <th>14</th>\n",
       "      <td>193871</td>\n",
       "      <td>Compact Stacked Contour Applied To Full Field ...</td>\n",
       "      <td>U. Middya P.I. Crumpton</td>\n",
       "      <td>Saudi Aramco PE&amp;D</td>\n",
       "    </tr>\n",
       "    <tr>\n",
       "      <th>15</th>\n",
       "      <td>193932</td>\n",
       "      <td>Integrated Framework for Modelling of Thermal-...</td>\n",
       "      <td>M. Khait D. Voskov</td>\n",
       "      <td>Delft University of Technology</td>\n",
       "    </tr>\n",
       "    <tr>\n",
       "      <th>16</th>\n",
       "      <td>193894</td>\n",
       "      <td>Algebraic Dynamic Multilevel Method for Fractu...</td>\n",
       "      <td>M. Hosseinimehr R. Arbarim M. Cusini C. Vuik H...</td>\n",
       "      <td>Delft University of Technology</td>\n",
       "    </tr>\n",
       "    <tr>\n",
       "      <th>17</th>\n",
       "      <td>193874</td>\n",
       "      <td>Three-Dimensional Geological Boundary Aligned ...</td>\n",
       "      <td>S. Manzoor Saudi Aramco; M.G. Edwards Swansea ...</td>\n",
       "      <td>Saudi Aramco</td>\n",
       "    </tr>\n",
       "    <tr>\n",
       "      <th>18</th>\n",
       "      <td>193889</td>\n",
       "      <td>Nonlinear Upscaling Of Two-phase Flow Using No...</td>\n",
       "      <td>W. Leung The University of Texas at Austin; E....</td>\n",
       "      <td>The University of Texas Austin</td>\n",
       "    </tr>\n",
       "    <tr>\n",
       "      <th>19</th>\n",
       "      <td>193864</td>\n",
       "      <td>High Fidelity Simulation of Recovery Mechanism...</td>\n",
       "      <td>H.X. Vo J. Kamath M. Hui</td>\n",
       "      <td>Chevron Energy Technology Company</td>\n",
       "    </tr>\n",
       "    <tr>\n",
       "      <th>20</th>\n",
       "      <td>193852</td>\n",
       "      <td>Upscaling of Sub-seismic 3D Fault Zone Structu...</td>\n",
       "      <td>M.S. Islam Dhofar University; T. Manzocchi</td>\n",
       "      <td>University College Dublin</td>\n",
       "    </tr>\n",
       "    <tr>\n",
       "      <th>21</th>\n",
       "      <td>193924</td>\n",
       "      <td>Simulation of Inter-fracture Injection and Pro...</td>\n",
       "      <td>Y. He Z. Chai J. Huang Texas A&amp;M University; P...</td>\n",
       "      <td>Texas A&amp;M University</td>\n",
       "    </tr>\n",
       "    <tr>\n",
       "      <th>22</th>\n",
       "      <td>193843</td>\n",
       "      <td>Numerical and Experimental Analysis of Diffusi...</td>\n",
       "      <td>M. Zhang N. Chakraborty Z.T. Karpyn H. Emami M...</td>\n",
       "      <td>Pennsylvania State University</td>\n",
       "    </tr>\n",
       "    <tr>\n",
       "      <th>23</th>\n",
       "      <td>193845</td>\n",
       "      <td>Rapid Forecast Calibration Using Nonlinear Sim...</td>\n",
       "      <td>J. He W. Sun X. Wen</td>\n",
       "      <td>Chevron</td>\n",
       "    </tr>\n",
       "    <tr>\n",
       "      <th>24</th>\n",
       "      <td>193834</td>\n",
       "      <td>Production Data Integration into Complex Geolo...</td>\n",
       "      <td>W. Ma B. Jafarpour</td>\n",
       "      <td>University of Southern California</td>\n",
       "    </tr>\n",
       "    <tr>\n",
       "      <th>25</th>\n",
       "      <td>193879</td>\n",
       "      <td>A General Framework Model for Fully Coupled Th...</td>\n",
       "      <td>S. Wang Colorado School of Mines; Y. Di Peking...</td>\n",
       "      <td>Colorado School of Mines</td>\n",
       "    </tr>\n",
       "    <tr>\n",
       "      <th>26</th>\n",
       "      <td>193856</td>\n",
       "      <td>Closed-Loop Stochastic Oilfield Optimization u...</td>\n",
       "      <td>A. Jahandideh B. Jafarpour</td>\n",
       "      <td>University of Southern California</td>\n",
       "    </tr>\n",
       "    <tr>\n",
       "      <th>27</th>\n",
       "      <td>193920</td>\n",
       "      <td>Optimization Based Well Management For Couplin...</td>\n",
       "      <td>U. Middya P.I. Crumpton T. Qasim</td>\n",
       "      <td>Saudi Aramco PE&amp;D</td>\n",
       "    </tr>\n",
       "    <tr>\n",
       "      <th>28</th>\n",
       "      <td>193875</td>\n",
       "      <td>Higher Resolution Unstructured Spectral Finite...</td>\n",
       "      <td>Y. Xie Henan University; M.G. Edwards</td>\n",
       "      <td>Swansea University</td>\n",
       "    </tr>\n",
       "    <tr>\n",
       "      <th>29</th>\n",
       "      <td>193844</td>\n",
       "      <td>A Bayesian Sampling Framework with Seismic Pri...</td>\n",
       "      <td>S. Nejadi N. Kazemi S.M. Hubbard I.D. Gates</td>\n",
       "      <td>University of Calgary</td>\n",
       "    </tr>\n",
       "    <tr>\n",
       "      <th>...</th>\n",
       "      <td>...</td>\n",
       "      <td>...</td>\n",
       "      <td>...</td>\n",
       "      <td>...</td>\n",
       "    </tr>\n",
       "    <tr>\n",
       "      <th>74</th>\n",
       "      <td>193842</td>\n",
       "      <td>Design of Warm Solvent Injection Processes for...</td>\n",
       "      <td>Z. Ma J.Y. Leung</td>\n",
       "      <td>University of Alberta</td>\n",
       "    </tr>\n",
       "    <tr>\n",
       "      <th>75</th>\n",
       "      <td>193882</td>\n",
       "      <td>Impact of WAG Design on Calcite Scaling Risk i...</td>\n",
       "      <td>H.W. Rodrigues E.J. Mackay D. Arnold</td>\n",
       "      <td>Heriot-Watt University</td>\n",
       "    </tr>\n",
       "    <tr>\n",
       "      <th>76</th>\n",
       "      <td>193835</td>\n",
       "      <td>A Natural Variable Well Model for Advanced The...</td>\n",
       "      <td>Y. Zhou G. Li Chevron Energy Technology Compan...</td>\n",
       "      <td>Chevron (Retired)</td>\n",
       "    </tr>\n",
       "    <tr>\n",
       "      <th>77</th>\n",
       "      <td>193829</td>\n",
       "      <td>Integration of Deep Learning and Data Analytic...</td>\n",
       "      <td>Z. Ma J.Y. Leung</td>\n",
       "      <td>University of Alberta</td>\n",
       "    </tr>\n",
       "    <tr>\n",
       "      <th>78</th>\n",
       "      <td>193923</td>\n",
       "      <td>An Interactive Workflow And Data Analytics For...</td>\n",
       "      <td>J. Fu L. Libby</td>\n",
       "      <td>Chevron</td>\n",
       "    </tr>\n",
       "    <tr>\n",
       "      <th>79</th>\n",
       "      <td>193846</td>\n",
       "      <td>An Open Source Numerical Framework for Dual-Co...</td>\n",
       "      <td>M. Ashworth F. Doster</td>\n",
       "      <td>Heriot-Watt University</td>\n",
       "    </tr>\n",
       "    <tr>\n",
       "      <th>80</th>\n",
       "      <td>193927</td>\n",
       "      <td>Quasi-K-Orthogonal Grid Generation</td>\n",
       "      <td>S. Manzoor Saudi Aramco; M.G. Edwards Swansea ...</td>\n",
       "      <td>Saudi Aramco</td>\n",
       "    </tr>\n",
       "    <tr>\n",
       "      <th>81</th>\n",
       "      <td>193931</td>\n",
       "      <td>A Geomechanics-Coupled Embedded Discrete Fract...</td>\n",
       "      <td>X. Yu P.H. Winterfeld S. Wang C. Wang L. Wang ...</td>\n",
       "      <td>Colorado School of Mines</td>\n",
       "    </tr>\n",
       "    <tr>\n",
       "      <th>82</th>\n",
       "      <td>193897</td>\n",
       "      <td>Hybrid Mixed Mimetic Discritization Scheme For...</td>\n",
       "      <td>A.S. Abushaikha Hamad Bin Khalifa University; ...</td>\n",
       "      <td>Russian Academy of Sciences</td>\n",
       "    </tr>\n",
       "    <tr>\n",
       "      <th>83</th>\n",
       "      <td>193824</td>\n",
       "      <td>Dynamic Modeling and Design Optimization of Cy...</td>\n",
       "      <td>S.F. Gurses G. Chochua A. Rudic A. Kumar</td>\n",
       "      <td>Schlumberger</td>\n",
       "    </tr>\n",
       "    <tr>\n",
       "      <th>84</th>\n",
       "      <td>193861</td>\n",
       "      <td>Ranking Fractured Reservoir Models Using Flow ...</td>\n",
       "      <td>V.E. Spooner S. Geiger D. Arnold</td>\n",
       "      <td>Heriot-Watt University</td>\n",
       "    </tr>\n",
       "    <tr>\n",
       "      <th>85</th>\n",
       "      <td>193918</td>\n",
       "      <td>Markov Chain Monte Carlo Uncertainty Quantific...</td>\n",
       "      <td>E.P. Sousa The University of Tulsa and Petrobr...</td>\n",
       "      <td>University of Tulsa</td>\n",
       "    </tr>\n",
       "    <tr>\n",
       "      <th>86</th>\n",
       "      <td>193809</td>\n",
       "      <td>Robust Fuzzy Timestep Selector for a Fully Imp...</td>\n",
       "      <td>P.I. Crumpton</td>\n",
       "      <td>Saudi Aramco PE&amp;D</td>\n",
       "    </tr>\n",
       "    <tr>\n",
       "      <th>87</th>\n",
       "      <td>193903</td>\n",
       "      <td>Insights into Development and Application of a...</td>\n",
       "      <td>S. Kumar M. Talpallikar E. Valbuena P. Nguyen ...</td>\n",
       "      <td>Chevron Corporation</td>\n",
       "    </tr>\n",
       "    <tr>\n",
       "      <th>88</th>\n",
       "      <td>193816</td>\n",
       "      <td>A New Framework for the Integrated Reservoir a...</td>\n",
       "      <td>R. Zaydullin H. Cao T.Y. Liao E. Obi Total E&amp;P...</td>\n",
       "      <td>Inc.</td>\n",
       "    </tr>\n",
       "    <tr>\n",
       "      <th>89</th>\n",
       "      <td>193883</td>\n",
       "      <td>Robust Multi-Objective Field Development Optim...</td>\n",
       "      <td>R.G. Hanea O. Bjørlykke Y. Hashmi T. Feng Equi...</td>\n",
       "      <td>TNO</td>\n",
       "    </tr>\n",
       "    <tr>\n",
       "      <th>90</th>\n",
       "      <td>193850</td>\n",
       "      <td>General Semi-Structured Discretizations for Fl...</td>\n",
       "      <td>M. Jammoul B. Ganis M.F. Wheeler</td>\n",
       "      <td>The University of Texas At Austin</td>\n",
       "    </tr>\n",
       "    <tr>\n",
       "      <th>91</th>\n",
       "      <td>193873</td>\n",
       "      <td>Multiscale Computations of Hydraulic Fracture ...</td>\n",
       "      <td>R.G. Wan M. Eghbalian M. Pouragha University o...</td>\n",
       "      <td>Saudi Aramco PE&amp;D</td>\n",
       "    </tr>\n",
       "    <tr>\n",
       "      <th>92</th>\n",
       "      <td>193825</td>\n",
       "      <td>A Multiphysics Fully-Coupled Flow and Geomecha...</td>\n",
       "      <td>F.O. Alpak</td>\n",
       "      <td>Shell International Exploration and Productio...</td>\n",
       "    </tr>\n",
       "    <tr>\n",
       "      <th>93</th>\n",
       "      <td>193830</td>\n",
       "      <td>Unconventional Reservoir Management Modeling C...</td>\n",
       "      <td>M.F. Wheeler The University of Texas At Austin...</td>\n",
       "      <td>Pennsylvania State University</td>\n",
       "    </tr>\n",
       "    <tr>\n",
       "      <th>94</th>\n",
       "      <td>193822</td>\n",
       "      <td>Modeling Hydraulically Fractured Shale Wells U...</td>\n",
       "      <td>X. Xue C. Yang T. Onishi M.J. King A. Datta-gupta</td>\n",
       "      <td>Texas A&amp;M University</td>\n",
       "    </tr>\n",
       "    <tr>\n",
       "      <th>95</th>\n",
       "      <td>193896</td>\n",
       "      <td>Artificial Neural Network Accelerated Flash Ca...</td>\n",
       "      <td>K. Wang J. Luo University of Calgary; L. Yan E...</td>\n",
       "      <td>University of Calgary</td>\n",
       "    </tr>\n",
       "    <tr>\n",
       "      <th>96</th>\n",
       "      <td>193863</td>\n",
       "      <td>Reduced-Order Modeling of Coupled Flow-Geomech...</td>\n",
       "      <td>Z.L. Jin T. Garipov O. Volkov L.J. Durlofsky</td>\n",
       "      <td>Stanford University</td>\n",
       "    </tr>\n",
       "    <tr>\n",
       "      <th>97</th>\n",
       "      <td>193911</td>\n",
       "      <td>Model-Order Reduction of Coupled Flow and Geom...</td>\n",
       "      <td>H. Florez E. Gildin</td>\n",
       "      <td>Texas A&amp;M University</td>\n",
       "    </tr>\n",
       "    <tr>\n",
       "      <th>98</th>\n",
       "      <td>193914</td>\n",
       "      <td>A Comprehensive Adaptive Forecasting Framework...</td>\n",
       "      <td>A. Salehi G. Hetz F. Olalotiti-lawal N. Sorek ...</td>\n",
       "      <td>Quantum Reservoir Impact LLC</td>\n",
       "    </tr>\n",
       "    <tr>\n",
       "      <th>99</th>\n",
       "      <td>193841</td>\n",
       "      <td>INSIM-FT-3D: A Three-Dimensional Data-Driven M...</td>\n",
       "      <td>Z. Guo Occidental Petroleum Corporation; A.C. ...</td>\n",
       "      <td>University of Tulsa</td>\n",
       "    </tr>\n",
       "    <tr>\n",
       "      <th>100</th>\n",
       "      <td>193930</td>\n",
       "      <td>New and Improved Physical Property Models for ...</td>\n",
       "      <td>H. Lashgari G.A. Pope M.T. Balhoff M. Tagavifar</td>\n",
       "      <td>The University of Texas At Austin</td>\n",
       "    </tr>\n",
       "    <tr>\n",
       "      <th>101</th>\n",
       "      <td>193826</td>\n",
       "      <td>Continuous Relative Permeability Model for Com...</td>\n",
       "      <td>M. Petitfrere R. De Loubens Total; L. Patacchini</td>\n",
       "      <td>Stone Ridge Technology</td>\n",
       "    </tr>\n",
       "    <tr>\n",
       "      <th>102</th>\n",
       "      <td>193836</td>\n",
       "      <td>Simulation of Radio Frequency Heating of Heavy...</td>\n",
       "      <td>G. Li X. Guan H. Wang S. Du Chevron Corporatio...</td>\n",
       "      <td>University of Houston</td>\n",
       "    </tr>\n",
       "    <tr>\n",
       "      <th>103</th>\n",
       "      <td>193815</td>\n",
       "      <td>Numerical Modeling of Fluid-Rock Interactions ...</td>\n",
       "      <td>A.N. Awolayo H.K. Sarma University of Calgary;...</td>\n",
       "      <td>Computer Modelling Group Ltd.</td>\n",
       "    </tr>\n",
       "  </tbody>\n",
       "</table>\n",
       "<p>104 rows × 4 columns</p>\n",
       "</div>"
      ],
      "text/plain": [
       "    Number_paper                                       Papers_title  \\\n",
       "0         193831  Non-Intrusive Reduced Order Modelling for Reco...   \n",
       "1         193878  Accelerated Compositional Simulation of Tight ...   \n",
       "2         193904  Data-Driven Discovery of Unconventional Shale ...   \n",
       "3         193912  Deep Model Reduction-Model Learning for Reserv...   \n",
       "4         193848  IOR Pilot Evaluation In Brown-field Fractured ...   \n",
       "5         193811  Artificial Neural Network Modeling of Compacti...   \n",
       "6         193888  Thermodynamic Stability Analysis of Multi-Comp...   \n",
       "7         193906  Flexible Discretizations Of The Three-componen...   \n",
       "8         193934  Implicit High-Resolution Compositional Simulat...   \n",
       "9         193817  Von Neumann Stable, Implicit, High Order, Fini...   \n",
       "10        193853     Boundary Segments for Multisegment Well Models   \n",
       "11        193905  Modelling of Electromagnetic Heating Process a...   \n",
       "12        193880  A Massively Parallel Algebraic Multiscale Solv...   \n",
       "13        193872  An Adaptive Preconditioning Strategy to Speed ...   \n",
       "14        193871  Compact Stacked Contour Applied To Full Field ...   \n",
       "15        193932  Integrated Framework for Modelling of Thermal-...   \n",
       "16        193894  Algebraic Dynamic Multilevel Method for Fractu...   \n",
       "17        193874  Three-Dimensional Geological Boundary Aligned ...   \n",
       "18        193889  Nonlinear Upscaling Of Two-phase Flow Using No...   \n",
       "19        193864  High Fidelity Simulation of Recovery Mechanism...   \n",
       "20        193852  Upscaling of Sub-seismic 3D Fault Zone Structu...   \n",
       "21        193924  Simulation of Inter-fracture Injection and Pro...   \n",
       "22        193843  Numerical and Experimental Analysis of Diffusi...   \n",
       "23        193845  Rapid Forecast Calibration Using Nonlinear Sim...   \n",
       "24        193834  Production Data Integration into Complex Geolo...   \n",
       "25        193879  A General Framework Model for Fully Coupled Th...   \n",
       "26        193856  Closed-Loop Stochastic Oilfield Optimization u...   \n",
       "27        193920  Optimization Based Well Management For Couplin...   \n",
       "28        193875  Higher Resolution Unstructured Spectral Finite...   \n",
       "29        193844  A Bayesian Sampling Framework with Seismic Pri...   \n",
       "..           ...                                                ...   \n",
       "74        193842  Design of Warm Solvent Injection Processes for...   \n",
       "75        193882  Impact of WAG Design on Calcite Scaling Risk i...   \n",
       "76        193835  A Natural Variable Well Model for Advanced The...   \n",
       "77        193829  Integration of Deep Learning and Data Analytic...   \n",
       "78        193923  An Interactive Workflow And Data Analytics For...   \n",
       "79        193846  An Open Source Numerical Framework for Dual-Co...   \n",
       "80        193927                 Quasi-K-Orthogonal Grid Generation   \n",
       "81        193931  A Geomechanics-Coupled Embedded Discrete Fract...   \n",
       "82        193897  Hybrid Mixed Mimetic Discritization Scheme For...   \n",
       "83        193824  Dynamic Modeling and Design Optimization of Cy...   \n",
       "84        193861  Ranking Fractured Reservoir Models Using Flow ...   \n",
       "85        193918  Markov Chain Monte Carlo Uncertainty Quantific...   \n",
       "86        193809  Robust Fuzzy Timestep Selector for a Fully Imp...   \n",
       "87        193903  Insights into Development and Application of a...   \n",
       "88        193816  A New Framework for the Integrated Reservoir a...   \n",
       "89        193883  Robust Multi-Objective Field Development Optim...   \n",
       "90        193850  General Semi-Structured Discretizations for Fl...   \n",
       "91        193873  Multiscale Computations of Hydraulic Fracture ...   \n",
       "92        193825  A Multiphysics Fully-Coupled Flow and Geomecha...   \n",
       "93        193830  Unconventional Reservoir Management Modeling C...   \n",
       "94        193822  Modeling Hydraulically Fractured Shale Wells U...   \n",
       "95        193896  Artificial Neural Network Accelerated Flash Ca...   \n",
       "96        193863  Reduced-Order Modeling of Coupled Flow-Geomech...   \n",
       "97        193911  Model-Order Reduction of Coupled Flow and Geom...   \n",
       "98        193914  A Comprehensive Adaptive Forecasting Framework...   \n",
       "99        193841  INSIM-FT-3D: A Three-Dimensional Data-Driven M...   \n",
       "100       193930  New and Improved Physical Property Models for ...   \n",
       "101       193826  Continuous Relative Permeability Model for Com...   \n",
       "102       193836  Simulation of Radio Frequency Heating of Heavy...   \n",
       "103       193815  Numerical Modeling of Fluid-Rock Interactions ...   \n",
       "\n",
       "                                                 Autor  \\\n",
       "0    W.J. Kostorz A.H. Muggeridge M.D. Jackson Impe...   \n",
       "1    S. Wang Colorado School of Mines; N. Sobecki D...   \n",
       "2                        H.M. Klie DeepCast; H. Florez   \n",
       "3    J. Zhang S. Cheung Y. Efendiev E. Gildin Texas...   \n",
       "4                                         J. He M. Hui   \n",
       "5    E. Fedutenko L.X. Nghiem C. Yang T. Chen M. Seifi   \n",
       "6                       S.S. Neshat R. Okuno G.A. Pope   \n",
       "7                              L. Cappanera B. Riviere   \n",
       "8    Ø.S. Klemetsdal O. Møyner Norwegian University...   \n",
       "9    T.J. Arbogast The University of Texas At Austi...   \n",
       "10                    T.W. Stone F. McKee C. Istchenko   \n",
       "11             D. Ji T. Harding Z. Chen M. Dong H. Liu   \n",
       "12                              A.M. Manea T.M. Almani   \n",
       "13   K. Wang H. Liu University of Calgary; L. Yan E...   \n",
       "14                             U. Middya P.I. Crumpton   \n",
       "15                                  M. Khait D. Voskov   \n",
       "16   M. Hosseinimehr R. Arbarim M. Cusini C. Vuik H...   \n",
       "17   S. Manzoor Saudi Aramco; M.G. Edwards Swansea ...   \n",
       "18   W. Leung The University of Texas at Austin; E....   \n",
       "19                            H.X. Vo J. Kamath M. Hui   \n",
       "20          M.S. Islam Dhofar University; T. Manzocchi   \n",
       "21   Y. He Z. Chai J. Huang Texas A&M University; P...   \n",
       "22   M. Zhang N. Chakraborty Z.T. Karpyn H. Emami M...   \n",
       "23                                 J. He W. Sun X. Wen   \n",
       "24                                  W. Ma B. Jafarpour   \n",
       "25   S. Wang Colorado School of Mines; Y. Di Peking...   \n",
       "26                          A. Jahandideh B. Jafarpour   \n",
       "27                    U. Middya P.I. Crumpton T. Qasim   \n",
       "28               Y. Xie Henan University; M.G. Edwards   \n",
       "29         S. Nejadi N. Kazemi S.M. Hubbard I.D. Gates   \n",
       "..                                                 ...   \n",
       "74                                    Z. Ma J.Y. Leung   \n",
       "75                H.W. Rodrigues E.J. Mackay D. Arnold   \n",
       "76   Y. Zhou G. Li Chevron Energy Technology Compan...   \n",
       "77                                    Z. Ma J.Y. Leung   \n",
       "78                                      J. Fu L. Libby   \n",
       "79                               M. Ashworth F. Doster   \n",
       "80   S. Manzoor Saudi Aramco; M.G. Edwards Swansea ...   \n",
       "81   X. Yu P.H. Winterfeld S. Wang C. Wang L. Wang ...   \n",
       "82   A.S. Abushaikha Hamad Bin Khalifa University; ...   \n",
       "83            S.F. Gurses G. Chochua A. Rudic A. Kumar   \n",
       "84                    V.E. Spooner S. Geiger D. Arnold   \n",
       "85   E.P. Sousa The University of Tulsa and Petrobr...   \n",
       "86                                       P.I. Crumpton   \n",
       "87   S. Kumar M. Talpallikar E. Valbuena P. Nguyen ...   \n",
       "88   R. Zaydullin H. Cao T.Y. Liao E. Obi Total E&P...   \n",
       "89   R.G. Hanea O. Bjørlykke Y. Hashmi T. Feng Equi...   \n",
       "90                    M. Jammoul B. Ganis M.F. Wheeler   \n",
       "91   R.G. Wan M. Eghbalian M. Pouragha University o...   \n",
       "92                                          F.O. Alpak   \n",
       "93   M.F. Wheeler The University of Texas At Austin...   \n",
       "94   X. Xue C. Yang T. Onishi M.J. King A. Datta-gupta   \n",
       "95   K. Wang J. Luo University of Calgary; L. Yan E...   \n",
       "96        Z.L. Jin T. Garipov O. Volkov L.J. Durlofsky   \n",
       "97                                 H. Florez E. Gildin   \n",
       "98   A. Salehi G. Hetz F. Olalotiti-lawal N. Sorek ...   \n",
       "99   Z. Guo Occidental Petroleum Corporation; A.C. ...   \n",
       "100    H. Lashgari G.A. Pope M.T. Balhoff M. Tagavifar   \n",
       "101   M. Petitfrere R. De Loubens Total; L. Patacchini   \n",
       "102  G. Li X. Guan H. Wang S. Du Chevron Corporatio...   \n",
       "103  A.N. Awolayo H.K. Sarma University of Calgary;...   \n",
       "\n",
       "                                               Company  \n",
       "0                                     Total E&P UK Ltd  \n",
       "1                    Schlumberger Doll Research Center  \n",
       "2                                 Texas A&M University  \n",
       "3                  The Chinese University of Hong Kong  \n",
       "4                                          Chevron ETC  \n",
       "5                        Computer Modelling Group Ltd.  \n",
       "6                    The University of Texas At Austin  \n",
       "7                                      Rice University  \n",
       "8                                       SINTEF Digital  \n",
       "9                    The University of Texas at Austin  \n",
       "10                                        Schlumberger  \n",
       "11                               University of Calgary  \n",
       "12                                        Saudi Aramco  \n",
       "13                               University of Calgary  \n",
       "14                                   Saudi Aramco PE&D  \n",
       "15                      Delft University of Technology  \n",
       "16                      Delft University of Technology  \n",
       "17                                        Saudi Aramco  \n",
       "18                      The University of Texas Austin  \n",
       "19                   Chevron Energy Technology Company  \n",
       "20                           University College Dublin  \n",
       "21                                Texas A&M University  \n",
       "22                       Pennsylvania State University  \n",
       "23                                             Chevron  \n",
       "24                   University of Southern California  \n",
       "25                            Colorado School of Mines  \n",
       "26                   University of Southern California  \n",
       "27                                   Saudi Aramco PE&D  \n",
       "28                                  Swansea University  \n",
       "29                               University of Calgary  \n",
       "..                                                 ...  \n",
       "74                               University of Alberta  \n",
       "75                              Heriot-Watt University  \n",
       "76                                   Chevron (Retired)  \n",
       "77                               University of Alberta  \n",
       "78                                             Chevron  \n",
       "79                              Heriot-Watt University  \n",
       "80                                        Saudi Aramco  \n",
       "81                            Colorado School of Mines  \n",
       "82                         Russian Academy of Sciences  \n",
       "83                                        Schlumberger  \n",
       "84                              Heriot-Watt University  \n",
       "85                                 University of Tulsa  \n",
       "86                                   Saudi Aramco PE&D  \n",
       "87                                 Chevron Corporation  \n",
       "88                                                Inc.  \n",
       "89                                                 TNO  \n",
       "90                   The University of Texas At Austin  \n",
       "91                                   Saudi Aramco PE&D  \n",
       "92    Shell International Exploration and Productio...  \n",
       "93                       Pennsylvania State University  \n",
       "94                                Texas A&M University  \n",
       "95                               University of Calgary  \n",
       "96                                 Stanford University  \n",
       "97                                Texas A&M University  \n",
       "98                        Quantum Reservoir Impact LLC  \n",
       "99                                 University of Tulsa  \n",
       "100                  The University of Texas At Austin  \n",
       "101                             Stone Ridge Technology  \n",
       "102                              University of Houston  \n",
       "103                      Computer Modelling Group Ltd.  \n",
       "\n",
       "[104 rows x 4 columns]"
      ]
     },
     "execution_count": 27,
     "metadata": {},
     "output_type": "execute_result"
    }
   ],
   "source": [
    "df_paper"
   ]
  },
  {
   "cell_type": "markdown",
   "metadata": {},
   "source": [
    "# Top 10 empresas "
   ]
  },
  {
   "cell_type": "code",
   "execution_count": 28,
   "metadata": {},
   "outputs": [
    {
     "data": {
      "text/plain": [
       " University of Tulsa                  8\n",
       " Colorado School of Mines             6\n",
       " Stanford University                  5\n",
       " Texas A&M University                 5\n",
       " The University of Texas At Austin    5\n",
       " Chevron                              4\n",
       " University of Calgary                4\n",
       " Delft University of Technology       4\n",
       " Saudi Aramco PE&D                    4\n",
       " Computer Modelling Group Ltd.        3\n",
       "Name: Company, dtype: int64"
      ]
     },
     "execution_count": 28,
     "metadata": {},
     "output_type": "execute_result"
    }
   ],
   "source": [
    "df_paper['Company'].value_counts().head(10)"
   ]
  },
  {
   "cell_type": "code",
   "execution_count": 29,
   "metadata": {},
   "outputs": [
    {
     "data": {
      "text/plain": [
       "<matplotlib.axes._subplots.AxesSubplot at 0x7f30276c6048>"
      ]
     },
     "execution_count": 29,
     "metadata": {},
     "output_type": "execute_result"
    },
    {
     "data": {
      "image/png": "[encoded data removed]",
      "text/plain": [
       "<Figure size 432x288 with 1 Axes>"
      ]
     },
     "metadata": {},
     "output_type": "display_data"
    }
   ],
   "source": [
    "sns.set_style(style='darkgrid')\n",
    "company=pd.DataFrame(df_paper['Company'].value_counts().head(15))\n",
    "plt.title('Compañias con mas papers')\n",
    "sns.barplot(x=company['Company'],y=company.index)"
   ]
  },
  {
   "cell_type": "markdown",
   "metadata": {},
   "source": [
    "# FINAL...."
   ]
  },
  {
   "cell_type": "code",
   "execution_count": null,
   "metadata": {},
   "outputs": [],
   "source": []
  }
 ],
 "metadata": {
  "kernelspec": {
   "display_name": "Python 3",
   "language": "python",
   "name": "python3"
  },
  "language_info": {
   "codemirror_mode": {
    "name": "ipython",
    "version": 3
   },
   "file_extension": ".py",
   "mimetype": "text/x-python",
   "name": "python",
   "nbconvert_exporter": "python",
   "pygments_lexer": "ipython3",
   "version": "3.7.1"
  }
 },
 "nbformat": 4,
 "nbformat_minor": 2
}
