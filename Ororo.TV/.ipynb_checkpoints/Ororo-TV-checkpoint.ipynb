{
 "cells": [
  {
   "cell_type": "code",
   "execution_count": 144,
   "metadata": {},
   "outputs": [],
   "source": [
    "import requests \n",
    "import numpy as np \n",
    "from bs4 import BeautifulSoup  \n",
    "import pandas as pd\n",
    "import seaborn as sns \n",
    "import matplotlib.pyplot as plt\n",
    "import os\n",
    "%matplotlib inline"
   ]
  },
  {
   "cell_type": "markdown",
   "metadata": {},
   "source": [
    "# Caso de estudio -- Analisis de las series ofrecidas en OroroTV\n",
    "\n",
    "En el siguiente estudio se busca analizar los siguientes aspectos :\n",
    "\n",
    "* ¿Qué series les gusta mas a los usuarios?\n",
    "* ¿Cuales series tienen baja puntuación?\n",
    "* Cantidad de series por genero\n",
    "* ¿Cual es el genero que mas consumen los usuarios de OroroTV?"
   ]
  },
  {
   "cell_type": "markdown",
   "metadata": {},
   "source": [
    "# Cargamos información de la pagina web "
   ]
  },
  {
   "cell_type": "code",
   "execution_count": 145,
   "metadata": {},
   "outputs": [],
   "source": [
    "r=requests.get('https://ororo.tv/es/shows')"
   ]
  },
  {
   "cell_type": "markdown",
   "metadata": {},
   "source": [
    "# Revisamos si tenemos información de las series \n",
    "\n",
    "Siempre que deseemos extraer informacion de una web  una buena opción es usar **`request`** que basicamente  es un wrapper de urllib junto con otros módulos de python para proporcionar métodos sencillos con estructura REST, pues esta tiene los métodos “post”, “get”, “put”, “patch”, “delete”, “head” y “options”, todo lo necesario para consumir un API sin problemas.\n"
   ]
  },
  {
   "cell_type": "code",
   "execution_count": 146,
   "metadata": {},
   "outputs": [
    {
     "data": {
      "text/plain": [
       "'<!DOCTYPE html>\\n<!--[if lt IE 7]> <html class=\"no-js ie6 oldie\" lang=\"en-US\"> <![endif]-->\\n<!--[if IE 7]>    <html class=\"no-js ie7 oldie\" lang=\"en-US\"> <![endif]-->\\n<!--[if IE 8]>    <html class=\"no-js ie8 oldie\" lang=\"en-US\"> <![endif]-->\\n<!--[if gt IE 8]><!--> <html class=\"no-js\" lang=\"en-US\"> <!--<![endif]-->\\n<head>\\n\\n\\n<title>ororo.tv | 520: Web server is returning an unknown error</title>\\n<meta charset=\"UTF-8\" />\\n<meta http-equiv=\"Content-Type\" content=\"text/html; charset=UTF-8\" />\\n<meta http-equiv=\"X-UA-Compatible\" content=\"IE=Edge,chrome=1\" />\\n<meta name=\"robots\" content=\"noindex, nofollow\" />\\n<meta name=\"viewport\" content=\"width=device-width,initial-scale=1,maximum-scale=1\" />\\n<link rel=\"stylesheet\" id=\"cf_styles-css\" href=\"/cdn-cgi/styles/cf.errors.css\" type=\"text/css\" media=\"screen,projection\" />\\n<!--[if lt IE 9]><link rel=\"stylesheet\" id=\\'cf_styles-ie-css\\' href=\"/cdn-cgi/styles/cf.errors.ie.css\" type=\"text/css\" media=\"screen,projection\" /><![endif]-->\\n<style type=\"text/css\">body{margin:0;padding:0}</style>\\n\\n\\n\\n\\n</head>\\n<body>\\n<div id=\"cf-wrapper\">\\n\\n    \\n\\n    <div id=\"cf-error-details\" class=\"cf-error-details-wrapper\">\\n        <div class=\"cf-wrapper cf-error-overview\">\\n            <h1>\\n              \\n              <span class=\"cf-error-type\">Error</span>\\n              <span class=\"cf-error-code\">520</span>\\n              <small class=\"heading-ray-id\">Ray ID: 52bf07362e3ce835 &bull; 2019-10-26 20:02:30 UTC</small>\\n            </h1>\\n            <h2 class=\"cf-subheadline\">Web server is returning an unknown error</h2>\\n        </div><!-- /.error-overview -->\\n        \\n        <div class=\"cf-section cf-highlight cf-status-display\">\\n            <div class=\"cf-wrapper\">\\n                <div class=\"cf-columns cols-3\">\\n                  \\n<div id=\"cf-browser-status\" class=\"cf-column cf-status-item cf-browser-status \">\\n  <div class=\"cf-icon-error-container\">\\n    <i class=\"cf-icon cf-icon-browser\"></i>\\n    <i class=\"cf-icon-status cf-icon-ok\"></i>\\n  </div>\\n  <span class=\"cf-status-desc\">You</span>\\n  <h3 class=\"cf-status-name\">Browser</h3>\\n  <span class=\"cf-status-label\">Working</span>\\n</div>\\n\\n<div id=\"cf-cloudflare-status\" class=\"cf-column cf-status-item cf-cloudflare-status \">\\n  <div class=\"cf-icon-error-container\">\\n    <i class=\"cf-icon cf-icon-cloud\"></i>\\n    <i class=\"cf-icon-status cf-icon-ok\"></i>\\n  </div>\\n  <span class=\"cf-status-desc\">Medellín</span>\\n  <h3 class=\"cf-status-name\">Cloudflare</h3>\\n  <span class=\"cf-status-label\">Working</span>\\n</div>\\n\\n<div id=\"cf-host-status\" class=\"cf-column cf-status-item cf-host-status cf-error-source\">\\n  <div class=\"cf-icon-error-container\">\\n    <i class=\"cf-icon cf-icon-server\"></i>\\n    <i class=\"cf-icon-status cf-icon-error\"></i>\\n  </div>\\n  <span class=\"cf-status-desc\">ororo.tv</span>\\n  <h3 class=\"cf-status-name\">Host</h3>\\n  <span class=\"cf-status-label\">Error</span>\\n</div>\\n\\n                </div>\\n              \\n            </div>\\n        </div><!-- /.status-display -->\\n\\n        <div class=\"cf-section cf-wrapper\">\\n            <div class=\"cf-columns two\">\\n                <div class=\"cf-column\">\\n                    <h2>What happened?</h2>\\n                    <p>There is an unknown connection issue between Cloudflare and the origin web server. As a result, the web page can not be displayed.</p>\\n                </div>\\n              \\n                <div class=\"cf-column\">\\n                    <h2>What can I do?</h2>\\n                          <h5>If you are a visitor of this website:</h5>\\n      <p>Please try again in a few minutes.</p>\\n\\n      <h5>If you are the owner of this website:</h5>\\n      <p><span>There is an issue between Cloudflare\\'s cache and your origin web server. Cloudflare monitors for these errors and automatically investigates the cause. To help support the investigation, you can pull the corresponding error log from your web server and submit it our support team.  Please include the Ray ID (which is at the bottom of this error page).</span> <a href=\"https://support.cloudflare.com/hc/en-us/articles/200171936-Error-520\">Additional troubleshooting resources</a>.</p>\\n                </div>\\n            </div>\\n              \\n        </div><!-- /.section -->\\n\\n        <div class=\"cf-error-footer cf-wrapper\">\\n  <p>\\n    <span class=\"cf-footer-item\">Cloudflare Ray ID: <strong>52bf07362e3ce835</strong></span>\\n    <span class=\"cf-footer-separator\">&bull;</span>\\n    <span class=\"cf-footer-item\"><span>Your IP</span>: 179.14.22.57</span>\\n    <span class=\"cf-footer-separator\">&bull;</span>\\n    <span class=\"cf-footer-item\"><span>Performance &amp; security by</span> <a href=\"https://www.cloudflare.com/5xx-error-landing?utm_source=error_footer\" id=\"brand_link\" target=\"_blank\">Cloudflare</a></span>\\n    \\n  </p>\\n</div><!-- /.error-footer -->\\n\\n\\n    </div><!-- /#cf-error-details -->\\n</div><!-- /#cf-wrapper -->\\n</body>\\n</html>\\n'"
      ]
     },
     "execution_count": 146,
     "metadata": {},
     "output_type": "execute_result"
    }
   ],
   "source": [
    "# Verficamos el resultado de nuestra petición\n",
    "\n",
    "r.text"
   ]
  },
  {
   "cell_type": "markdown",
   "metadata": {},
   "source": [
    "**NOTA:** Como podemos observar no obtuvimos la información que deseabamos que eran las series y esto pasa a menudo ya que cada vez mas las empresas van a cuidar sus datos con mayores niveles de seguridad. "
   ]
  },
  {
   "cell_type": "markdown",
   "metadata": {},
   "source": [
    "# ¿ Qué hacer en esos casos ?\n",
    "\n",
    "Vamos a dirigirnos a nuestra pagina principal **`url`** que deseamos consultar y abrir el ***codigo fuente*** con el comando **`Ctrl + U`** para revisar como esta estructurada la información deseada para extraerla , en este caso especial se encuentra almacenada en una especie de diccionario el cual vamos a copiar en un archivo de texto y luego abrirlo con la libreria `Pandas` de Python. "
   ]
  },
  {
   "cell_type": "markdown",
   "metadata": {},
   "source": [
    "# Creamos el DataFrame"
   ]
  },
  {
   "cell_type": "code",
   "execution_count": 147,
   "metadata": {},
   "outputs": [
    {
     "name": "stderr",
     "output_type": "stream",
     "text": [
      "/home/alexbonella2806/anaconda3/lib/python3.7/site-packages/ipykernel_launcher.py:1: ParserWarning: Falling back to the 'python' engine because the 'c' engine does not support regex separators (separators > 1 char and different from '\\s+' are interpreted as regex); you can avoid this warning by specifying engine='python'.\n",
      "  \"\"\"Entry point for launching an IPython kernel.\n"
     ]
    }
   ],
   "source": [
    "df=pd.read_csv('movies_new.txt',sep='},')  "
   ]
  },
  {
   "cell_type": "code",
   "execution_count": 148,
   "metadata": {},
   "outputs": [
    {
     "data": {
      "text/plain": [
       "'/home/alexbonella2806/Web Scrapping/Ororo.TV'"
      ]
     },
     "execution_count": 148,
     "metadata": {},
     "output_type": "execute_result"
    }
   ],
   "source": [
    "os.getcwd()"
   ]
  },
  {
   "cell_type": "code",
   "execution_count": 149,
   "metadata": {},
   "outputs": [],
   "source": [
    "\n",
    "# Cargamos los archivos dentro de nuestra carpeta teniendo en cuenta la extension\n",
    "\n",
    "path_to_file = os.getcwd()\n",
    "all_files = [files for files in os.listdir(path_to_file) if files.endswith('.txt')]\n"
   ]
  },
  {
   "cell_type": "code",
   "execution_count": 150,
   "metadata": {},
   "outputs": [
    {
     "data": {
      "text/plain": [
       "['popu_2.txt',\n",
       " 'movies_new.txt',\n",
       " 'By_Score.txt',\n",
       " 'name_1.txt',\n",
       " 'add1.txt',\n",
       " 'add2.txt',\n",
       " 'update.txt',\n",
       " 'by_year.txt',\n",
       " 'By_year_2.txt',\n",
       " 'Score2.txt']"
      ]
     },
     "execution_count": 150,
     "metadata": {},
     "output_type": "execute_result"
    }
   ],
   "source": [
    "all_files"
   ]
  },
  {
   "cell_type": "code",
   "execution_count": 151,
   "metadata": {},
   "outputs": [],
   "source": [
    "# Creamos ciclo para leer los archivos \n",
    "final=[]\n",
    "for i in range(len(all_files)):\n",
    "    k = open(path_to_file+'/'+all_files[i])\n",
    "    todos = k.read()\n",
    "    final.append(todos)"
   ]
  },
  {
   "cell_type": "code",
   "execution_count": 152,
   "metadata": {},
   "outputs": [
    {
     "data": {
      "text/plain": [
       "'Vegas'"
      ]
     },
     "execution_count": 152,
     "metadata": {},
     "output_type": "execute_result"
    }
   ],
   "source": [
    "final[0].split('},')[1].split(',')[1].split(':')[1].replace('\"',\"\") # Titulo de la serie"
   ]
  },
  {
   "cell_type": "code",
   "execution_count": 153,
   "metadata": {},
   "outputs": [
    {
     "data": {
      "text/plain": [
       "'Last Resort'"
      ]
     },
     "execution_count": 153,
     "metadata": {},
     "output_type": "execute_result"
    }
   ],
   "source": [
    "final[0].split(',')[1].split(':')[1].replace('\"',\"\") # Titulo de la serie"
   ]
  },
  {
   "cell_type": "markdown",
   "metadata": {},
   "source": [
    "# Extraemos toda la información de las series\n",
    "\n",
    "* Id serie\n",
    "* Titulo de la serie\n",
    "* Genero de la serie \n",
    "* Año de estreno\n",
    "* Rating serie\n",
    "* Descripción \n"
   ]
  },
  {
   "cell_type": "code",
   "execution_count": 154,
   "metadata": {},
   "outputs": [
    {
     "data": {
      "text/plain": [
       "'627'"
      ]
     },
     "execution_count": 154,
     "metadata": {},
     "output_type": "execute_result"
    }
   ],
   "source": [
    "df.columns[59].split(',')[0].split(':')[1] # Id de la serie"
   ]
  },
  {
   "cell_type": "code",
   "execution_count": 155,
   "metadata": {},
   "outputs": [
    {
     "data": {
      "text/plain": [
       "'The Resident'"
      ]
     },
     "execution_count": 155,
     "metadata": {},
     "output_type": "execute_result"
    }
   ],
   "source": [
    "df.columns[13].split(',')[1].split(':')[1].replace('\"',\"\") # Titulo de la serie"
   ]
  },
  {
   "cell_type": "code",
   "execution_count": 156,
   "metadata": {},
   "outputs": [
    {
     "data": {
      "text/plain": [
       "'Drama'"
      ]
     },
     "execution_count": 156,
     "metadata": {},
     "output_type": "execute_result"
    }
   ],
   "source": [
    "df.columns[59].split(',')[2].split(':')[1].replace('\"',\"\") # Genero de la serie"
   ]
  },
  {
   "cell_type": "code",
   "execution_count": 157,
   "metadata": {},
   "outputs": [
    {
     "data": {
      "text/plain": [
       "'2014'"
      ]
     },
     "execution_count": 157,
     "metadata": {},
     "output_type": "execute_result"
    }
   ],
   "source": [
    "df.columns[59].split('year')[1].split(',')[0].split(':')[1].replace('\"',\"\") # Año de estreno"
   ]
  },
  {
   "cell_type": "code",
   "execution_count": 158,
   "metadata": {},
   "outputs": [
    {
     "data": {
      "text/plain": [
       "'null'"
      ]
     },
     "execution_count": 158,
     "metadata": {},
     "output_type": "execute_result"
    }
   ],
   "source": [
    "df.columns[13].split('imdb')[1].split(',')[0].split(':')[1] # Rating serie "
   ]
  },
  {
   "cell_type": "code",
   "execution_count": 159,
   "metadata": {},
   "outputs": [
    {
     "data": {
      "text/plain": [
       "'A look at the personal and professional life of a Secretary of State as she tries to balance her work and family life.'"
      ]
     },
     "execution_count": 159,
     "metadata": {},
     "output_type": "execute_result"
    }
   ],
   "source": [
    "df.columns[59].split('desc')[1].split('\"')[2] # Descripcion de la serie "
   ]
  },
  {
   "cell_type": "code",
   "execution_count": 160,
   "metadata": {},
   "outputs": [
    {
     "data": {
      "text/plain": [
       "'NBC'"
      ]
     },
     "execution_count": 160,
     "metadata": {},
     "output_type": "execute_result"
    }
   ],
   "source": [
    "final[0].split('},')[5].split(\"network\")[1].split('\"')[2]"
   ]
  },
  {
   "cell_type": "code",
   "execution_count": 161,
   "metadata": {},
   "outputs": [
    {
     "data": {
      "text/plain": [
       "10"
      ]
     },
     "execution_count": 161,
     "metadata": {},
     "output_type": "execute_result"
    }
   ],
   "source": [
    "len(final)"
   ]
  },
  {
   "cell_type": "markdown",
   "metadata": {},
   "source": [
    "# Creamos las listas para  cargar el DataFrame final"
   ]
  },
  {
   "cell_type": "code",
   "execution_count": 182,
   "metadata": {},
   "outputs": [],
   "source": [
    "ID_serie=[]\n",
    "Title_serie=[]\n",
    "Gender_serie=[]\n",
    "Rating=[]\n",
    "Year=[]\n",
    "Desc=[]\n",
    "Home=[]\n",
    "for j in range (len(final)):\n",
    "    #print ('iteracion numero : ' + str(j))      \n",
    "    for i in range(60):\n",
    "        #print ('iteracion numero : ' + str(i))\n",
    "        ID_serie.append(final[j].split('},')[i].split(',')[0].split(':')[1])\n",
    "        Title_serie.append(final[j].split('},')[i].split(',')[1].split(':')[1].replace('\"',\"\"))\n",
    "        Gender_serie.append(final[j].split('},')[i].split('translated')[1].split(':')[1].split(',')[0].replace('\"',\"\"))\n",
    "        Year.append(final[j].split('},')[i].split('year')[1].split(',')[0].split(':')[1].replace('\"',\"\"))\n",
    "        Rating.append(final[j].split('},')[i].split('imdb')[1].split(',')[0].split(':')[1])\n",
    "        Desc.append(final[j].split('},')[i].split('desc')[1].split('\"')[2])\n",
    "        Home.append(final[j].split('},')[i].split(\"network\")[1].split('\"')[2])"
   ]
  },
  {
   "cell_type": "markdown",
   "metadata": {},
   "source": [
    "# Eliminamos los caracteres especiales de genero como :\n",
    "\n",
    "*  Animaci\\u00f3n  \n",
    "*  Biograf\\u00eda "
   ]
  },
  {
   "cell_type": "code",
   "execution_count": 183,
   "metadata": {},
   "outputs": [
    {
     "data": {
      "text/plain": [
       "600"
      ]
     },
     "execution_count": 183,
     "metadata": {},
     "output_type": "execute_result"
    }
   ],
   "source": [
    "len(Gender_serie)"
   ]
  },
  {
   "cell_type": "code",
   "execution_count": 184,
   "metadata": {},
   "outputs": [],
   "source": [
    "Gender_edit=[]\n",
    "for i in range(len(Gender_serie)):\n",
    "    Gender_edit.append(Gender_serie[i].replace('\\\\u00f3', 'ó'))\n",
    "    \n",
    "#--------------------------------------------------------------------------\n",
    "#--------------------------------------------------------------------------\n",
    "\n",
    "Gender_edit2=[]\n",
    "for i in range (len(Gender_serie)):\n",
    "    Gender_edit2.append(Gender_edit[i].replace('\\\\u00ed', 'í'))"
   ]
  },
  {
   "cell_type": "code",
   "execution_count": null,
   "metadata": {},
   "outputs": [],
   "source": []
  },
  {
   "cell_type": "code",
   "execution_count": 185,
   "metadata": {},
   "outputs": [],
   "source": [
    "# Creamos nuestro DataFrame para hacer las consultas respectivas "
   ]
  },
  {
   "cell_type": "code",
   "execution_count": 186,
   "metadata": {},
   "outputs": [],
   "source": [
    "data={'ID_serie':ID_serie,'Title_serie':Title_serie,'Gender_serie':Gender_edit2,'Year':Year,'Rating':Rating,'Desc':Desc,'Home':Home}"
   ]
  },
  {
   "cell_type": "code",
   "execution_count": 187,
   "metadata": {},
   "outputs": [],
   "source": [
    "movies=pd.DataFrame(data)"
   ]
  },
  {
   "cell_type": "code",
   "execution_count": 188,
   "metadata": {},
   "outputs": [
    {
     "data": {
      "text/plain": [
       "The Sopranos      4\n",
       "The Wire          4\n",
       "Six Feet Under    4\n",
       "Extra             4\n",
       "Firefly           4\n",
       "Name: Title_serie, dtype: int64"
      ]
     },
     "execution_count": 188,
     "metadata": {},
     "output_type": "execute_result"
    }
   ],
   "source": [
    "movies['Title_serie'].value_counts().head()"
   ]
  },
  {
   "cell_type": "code",
   "execution_count": 189,
   "metadata": {},
   "outputs": [],
   "source": [
    "movies=movies.drop_duplicates('Title_serie')"
   ]
  },
  {
   "cell_type": "code",
   "execution_count": 191,
   "metadata": {},
   "outputs": [
    {
     "data": {
      "text/plain": [
       "455"
      ]
     },
     "execution_count": 191,
     "metadata": {},
     "output_type": "execute_result"
    }
   ],
   "source": [
    "len(movies)   # Sepudieron extraer informacion de 455 series de 1264  cerca de un 36 % de la info"
   ]
  },
  {
   "cell_type": "markdown",
   "metadata": {},
   "source": [
    "# Series sin calificación "
   ]
  },
  {
   "cell_type": "code",
   "execution_count": 196,
   "metadata": {},
   "outputs": [],
   "source": [
    "movies.loc[movies['Rating']=='null','Rating']=''"
   ]
  },
  {
   "cell_type": "markdown",
   "metadata": {},
   "source": [
    "# Top 10 mejores series"
   ]
  },
  {
   "cell_type": "code",
   "execution_count": 199,
   "metadata": {},
   "outputs": [
    {
     "data": {
      "text/html": [
       "<div>\n",
       "<style scoped>\n",
       "    .dataframe tbody tr th:only-of-type {\n",
       "        vertical-align: middle;\n",
       "    }\n",
       "\n",
       "    .dataframe tbody tr th {\n",
       "        vertical-align: top;\n",
       "    }\n",
       "\n",
       "    .dataframe thead th {\n",
       "        text-align: right;\n",
       "    }\n",
       "</style>\n",
       "<table border=\"1\" class=\"dataframe\">\n",
       "  <thead>\n",
       "    <tr style=\"text-align: right;\">\n",
       "      <th></th>\n",
       "      <th>ID_serie</th>\n",
       "      <th>Title_serie</th>\n",
       "      <th>Gender_serie</th>\n",
       "      <th>Year</th>\n",
       "      <th>Rating</th>\n",
       "      <th>Desc</th>\n",
       "      <th>Home</th>\n",
       "    </tr>\n",
       "  </thead>\n",
       "  <tbody>\n",
       "    <tr>\n",
       "      <th>540</th>\n",
       "      <td>1241</td>\n",
       "      <td>Blue Planet II</td>\n",
       "      <td>Documental</td>\n",
       "      <td>2017</td>\n",
       "      <td>9.9</td>\n",
       "      <td>Sir David Attenborough returns to the ocean wa...</td>\n",
       "      <td>BBC One</td>\n",
       "    </tr>\n",
       "    <tr>\n",
       "      <th>356</th>\n",
       "      <td>1745</td>\n",
       "      <td>The Dark Crystal</td>\n",
       "      <td>Ciencia ficción</td>\n",
       "      <td>2019</td>\n",
       "      <td>9.8</td>\n",
       "      <td>Return to the world of Thra, where three Gelfl...</td>\n",
       "      <td>Netflix</td>\n",
       "    </tr>\n",
       "    <tr>\n",
       "      <th>541</th>\n",
       "      <td>1645</td>\n",
       "      <td>Our Planet</td>\n",
       "      <td>Documental</td>\n",
       "      <td>2019</td>\n",
       "      <td>9.8</td>\n",
       "      <td>Experience our planet's natural beauty and exa...</td>\n",
       "      <td>Netflix</td>\n",
       "    </tr>\n",
       "    <tr>\n",
       "      <th>545</th>\n",
       "      <td>1672</td>\n",
       "      <td>Chernobyl</td>\n",
       "      <td>Drama</td>\n",
       "      <td>2019</td>\n",
       "      <td>9.7</td>\n",
       "      <td>A dramatization of the true story of one of th...</td>\n",
       "      <td>HBO</td>\n",
       "    </tr>\n",
       "    <tr>\n",
       "      <th>543</th>\n",
       "      <td>993</td>\n",
       "      <td>Planet Earth II</td>\n",
       "      <td>Documental</td>\n",
       "      <td>2016</td>\n",
       "      <td>9.7</td>\n",
       "      <td>David Attenborough returns in this breathtakin...</td>\n",
       "      <td>BBC One</td>\n",
       "    </tr>\n",
       "    <tr>\n",
       "      <th>544</th>\n",
       "      <td>1527</td>\n",
       "      <td>Dynasties</td>\n",
       "      <td>Documental</td>\n",
       "      <td>2018</td>\n",
       "      <td>9.7</td>\n",
       "      <td>Follow the true stories of five of the world's...</td>\n",
       "      <td>BBC One</td>\n",
       "    </tr>\n",
       "    <tr>\n",
       "      <th>197</th>\n",
       "      <td>1751</td>\n",
       "      <td>Wu-Tang An American Saga</td>\n",
       "      <td>Drama</td>\n",
       "      <td>2019</td>\n",
       "      <td>9.6</td>\n",
       "      <td>In the early 1990's in New York, during the he...</td>\n",
       "      <td>Hulu</td>\n",
       "    </tr>\n",
       "    <tr>\n",
       "      <th>547</th>\n",
       "      <td>994</td>\n",
       "      <td>The Grand Tour</td>\n",
       "      <td>Comedia</td>\n",
       "      <td>2016</td>\n",
       "      <td>9.6</td>\n",
       "      <td>Follow Jeremy, Richard, and James, as they emb...</td>\n",
       "      <td>Amazon</td>\n",
       "    </tr>\n",
       "    <tr>\n",
       "      <th>266</th>\n",
       "      <td>73</td>\n",
       "      <td>Planet Earth</td>\n",
       "      <td>Documental</td>\n",
       "      <td>2006</td>\n",
       "      <td>9.5</td>\n",
       "      <td>Prepare to see it as never before.</td>\n",
       "      <td>BBC One</td>\n",
       "    </tr>\n",
       "    <tr>\n",
       "      <th>469</th>\n",
       "      <td>388</td>\n",
       "      <td>Band of Brothers</td>\n",
       "      <td>Acción</td>\n",
       "      <td>2001</td>\n",
       "      <td>9.5</td>\n",
       "      <td>The story of Easy Company of the US Army 101st...</td>\n",
       "      <td>HBO</td>\n",
       "    </tr>\n",
       "  </tbody>\n",
       "</table>\n",
       "</div>"
      ],
      "text/plain": [
       "    ID_serie               Title_serie     Gender_serie  Year Rating  \\\n",
       "540     1241            Blue Planet II       Documental  2017    9.9   \n",
       "356     1745          The Dark Crystal  Ciencia ficción  2019    9.8   \n",
       "541     1645                Our Planet       Documental  2019    9.8   \n",
       "545     1672                 Chernobyl            Drama  2019    9.7   \n",
       "543      993           Planet Earth II       Documental  2016    9.7   \n",
       "544     1527                 Dynasties       Documental  2018    9.7   \n",
       "197     1751  Wu-Tang An American Saga            Drama  2019    9.6   \n",
       "547      994            The Grand Tour          Comedia  2016    9.6   \n",
       "266       73              Planet Earth       Documental  2006    9.5   \n",
       "469      388          Band of Brothers           Acción  2001    9.5   \n",
       "\n",
       "                                                  Desc     Home  \n",
       "540  Sir David Attenborough returns to the ocean wa...  BBC One  \n",
       "356  Return to the world of Thra, where three Gelfl...  Netflix  \n",
       "541  Experience our planet's natural beauty and exa...  Netflix  \n",
       "545  A dramatization of the true story of one of th...      HBO  \n",
       "543  David Attenborough returns in this breathtakin...  BBC One  \n",
       "544  Follow the true stories of five of the world's...  BBC One  \n",
       "197  In the early 1990's in New York, during the he...     Hulu  \n",
       "547  Follow Jeremy, Richard, and James, as they emb...   Amazon  \n",
       "266                 Prepare to see it as never before.  BBC One  \n",
       "469  The story of Easy Company of the US Army 101st...      HBO  "
      ]
     },
     "execution_count": 199,
     "metadata": {},
     "output_type": "execute_result"
    }
   ],
   "source": [
    "movies.sort_values(by='Rating',ascending=False).head(10) # Top 10 mejores series "
   ]
  },
  {
   "cell_type": "markdown",
   "metadata": {},
   "source": [
    "# Top 10 series con menos puntuación"
   ]
  },
  {
   "cell_type": "code",
   "execution_count": 204,
   "metadata": {},
   "outputs": [
    {
     "data": {
      "text/html": [
       "<div>\n",
       "<style scoped>\n",
       "    .dataframe tbody tr th:only-of-type {\n",
       "        vertical-align: middle;\n",
       "    }\n",
       "\n",
       "    .dataframe tbody tr th {\n",
       "        vertical-align: top;\n",
       "    }\n",
       "\n",
       "    .dataframe thead th {\n",
       "        text-align: right;\n",
       "    }\n",
       "</style>\n",
       "<table border=\"1\" class=\"dataframe\">\n",
       "  <thead>\n",
       "    <tr style=\"text-align: right;\">\n",
       "      <th></th>\n",
       "      <th>ID_serie</th>\n",
       "      <th>Title_serie</th>\n",
       "      <th>Gender_serie</th>\n",
       "      <th>Year</th>\n",
       "      <th>Rating</th>\n",
       "      <th>Desc</th>\n",
       "      <th>Home</th>\n",
       "    </tr>\n",
       "  </thead>\n",
       "  <tbody>\n",
       "    <tr>\n",
       "      <th>130</th>\n",
       "      <td>1732</td>\n",
       "      <td>The Family (2019)</td>\n",
       "      <td>Documental</td>\n",
       "      <td>2019</td>\n",
       "      <td>4.2</td>\n",
       "      <td>An enigmatic conservative Christian group know...</td>\n",
       "      <td>Netflix</td>\n",
       "    </tr>\n",
       "    <tr>\n",
       "      <th>128</th>\n",
       "      <td>1421</td>\n",
       "      <td>The Outpost</td>\n",
       "      <td>Ciencia ficción</td>\n",
       "      <td>2018</td>\n",
       "      <td>4.1</td>\n",
       "      <td>Talon, the lone survivor of a race called the ...</td>\n",
       "      <td>The CW</td>\n",
       "    </tr>\n",
       "    <tr>\n",
       "      <th>127</th>\n",
       "      <td>594</td>\n",
       "      <td>I Am Cait</td>\n",
       "      <td>Documental</td>\n",
       "      <td>2015</td>\n",
       "      <td>3.8</td>\n",
       "      <td>Follows the transformation of Bruce Jenner fro...</td>\n",
       "      <td>E!</td>\n",
       "    </tr>\n",
       "    <tr>\n",
       "      <th>126</th>\n",
       "      <td>1754</td>\n",
       "      <td>The I-Land</td>\n",
       "      <td>Drama</td>\n",
       "      <td>2019</td>\n",
       "      <td>3.7</td>\n",
       "      <td>Wiped clean of memories and thrown together, a...</td>\n",
       "      <td>Netflix</td>\n",
       "    </tr>\n",
       "    <tr>\n",
       "      <th>96</th>\n",
       "      <td>1788</td>\n",
       "      <td>Batwoman</td>\n",
       "      <td>Acción</td>\n",
       "      <td>2019</td>\n",
       "      <td>3.6</td>\n",
       "      <td>Armed with a great passion for social justice ...</td>\n",
       "      <td>The CW</td>\n",
       "    </tr>\n",
       "    <tr>\n",
       "      <th>124</th>\n",
       "      <td>1434</td>\n",
       "      <td>All About The Washingtons</td>\n",
       "      <td>Comedia</td>\n",
       "      <td>2018</td>\n",
       "      <td>3.5</td>\n",
       "      <td>The wife of a legendary rapper launches her ow...</td>\n",
       "      <td>Netflix</td>\n",
       "    </tr>\n",
       "    <tr>\n",
       "      <th>123</th>\n",
       "      <td>1774</td>\n",
       "      <td>Perfect Harmony</td>\n",
       "      <td>Comedia</td>\n",
       "      <td>2019</td>\n",
       "      <td>3.3</td>\n",
       "      <td>When former Princeton music professor Arthur C...</td>\n",
       "      <td>NBC</td>\n",
       "    </tr>\n",
       "    <tr>\n",
       "      <th>122</th>\n",
       "      <td>1477</td>\n",
       "      <td>Magnum P.I.</td>\n",
       "      <td>Drama</td>\n",
       "      <td>2018</td>\n",
       "      <td>2.9</td>\n",
       "      <td>Thomas Magnum, a decorated former Navy SEAL wh...</td>\n",
       "      <td>CBS</td>\n",
       "    </tr>\n",
       "    <tr>\n",
       "      <th>121</th>\n",
       "      <td>1314</td>\n",
       "      <td>Troy</td>\n",
       "      <td>Guerra</td>\n",
       "      <td>2018</td>\n",
       "      <td>2.5</td>\n",
       "      <td>A rich story of love, intrigue, betrayal and b...</td>\n",
       "      <td>BBC One</td>\n",
       "    </tr>\n",
       "    <tr>\n",
       "      <th>120</th>\n",
       "      <td>1251</td>\n",
       "      <td>Sea Oak</td>\n",
       "      <td>Comedia</td>\n",
       "      <td>2017</td>\n",
       "      <td>0.0</td>\n",
       "      <td>A lonesome woman comes back from the dead to l...</td>\n",
       "      <td>Amazon</td>\n",
       "    </tr>\n",
       "  </tbody>\n",
       "</table>\n",
       "</div>"
      ],
      "text/plain": [
       "    ID_serie                Title_serie     Gender_serie  Year Rating  \\\n",
       "130     1732          The Family (2019)       Documental  2019    4.2   \n",
       "128     1421                The Outpost  Ciencia ficción  2018    4.1   \n",
       "127      594                  I Am Cait       Documental  2015    3.8   \n",
       "126     1754                 The I-Land            Drama  2019    3.7   \n",
       "96      1788                   Batwoman           Acción  2019    3.6   \n",
       "124     1434  All About The Washingtons          Comedia  2018    3.5   \n",
       "123     1774            Perfect Harmony          Comedia  2019    3.3   \n",
       "122     1477                Magnum P.I.            Drama  2018    2.9   \n",
       "121     1314                       Troy           Guerra  2018    2.5   \n",
       "120     1251                    Sea Oak          Comedia  2017    0.0   \n",
       "\n",
       "                                                  Desc     Home  \n",
       "130  An enigmatic conservative Christian group know...  Netflix  \n",
       "128  Talon, the lone survivor of a race called the ...   The CW  \n",
       "127  Follows the transformation of Bruce Jenner fro...       E!  \n",
       "126  Wiped clean of memories and thrown together, a...  Netflix  \n",
       "96   Armed with a great passion for social justice ...   The CW  \n",
       "124  The wife of a legendary rapper launches her ow...  Netflix  \n",
       "123  When former Princeton music professor Arthur C...      NBC  \n",
       "122  Thomas Magnum, a decorated former Navy SEAL wh...      CBS  \n",
       "121  A rich story of love, intrigue, betrayal and b...  BBC One  \n",
       "120  A lonesome woman comes back from the dead to l...   Amazon  "
      ]
     },
     "execution_count": 204,
     "metadata": {},
     "output_type": "execute_result"
    }
   ],
   "source": [
    "movies[movies['Rating']!=''].sort_values(by='Rating',ascending=False).tail(10) # Top 10 series con menos puntuación "
   ]
  },
  {
   "cell_type": "markdown",
   "metadata": {},
   "source": []
  },
  {
   "cell_type": "markdown",
   "metadata": {},
   "source": [
    " # Cantidad de series por genero"
   ]
  },
  {
   "cell_type": "code",
   "execution_count": 205,
   "metadata": {},
   "outputs": [
    {
     "data": {
      "text/plain": [
       "Drama              155\n",
       "Comedia            135\n",
       "Acción              37\n",
       "Crimen              35\n",
       "Documental          29\n",
       "Animación           25\n",
       "Ciencia ficción     10\n",
       "Aventura             9\n",
       "Misterio             7\n",
       "                     3\n",
       "Reality              2\n",
       "Suspense             2\n",
       "Biografía            2\n",
       "Guerra               1\n",
       "Noticias             1\n",
       "Concurso             1\n",
       "Familiar             1\n",
       "Name: Gender_serie, dtype: int64"
      ]
     },
     "execution_count": 205,
     "metadata": {},
     "output_type": "execute_result"
    }
   ],
   "source": [
    "movies['Gender_serie'].value_counts()"
   ]
  },
  {
   "cell_type": "code",
   "execution_count": 206,
   "metadata": {},
   "outputs": [],
   "source": [
    "Count_By_Gender=pd.DataFrame(movies['Gender_serie'].value_counts())"
   ]
  },
  {
   "cell_type": "code",
   "execution_count": 207,
   "metadata": {},
   "outputs": [
    {
     "data": {
      "text/plain": [
       "<matplotlib.axes._subplots.AxesSubplot at 0x7f700a7397f0>"
      ]
     },
     "execution_count": 207,
     "metadata": {},
     "output_type": "execute_result"
    },
    {
     "data": {
      "image/png": "[encoded data removed]",
      "text/plain": [
       "<Figure size 432x288 with 1 Axes>"
      ]
     },
     "metadata": {},
     "output_type": "display_data"
    }
   ],
   "source": [
    "sns.set_style(style='darkgrid')\n",
    "plt.title('Series By Gender')\n",
    "sns.barplot(x=Count_By_Gender['Gender_serie'],y=Count_By_Gender.index)"
   ]
  },
  {
   "cell_type": "markdown",
   "metadata": {},
   "source": [
    "# Genero que mas le gusta a los  usuarios de Ororo.TV"
   ]
  },
  {
   "cell_type": "code",
   "execution_count": 210,
   "metadata": {},
   "outputs": [],
   "source": [
    "pelis=movies[movies['Rating']!='']\n",
    "pelis['Rating']=pelis['Rating'].apply(lambda x : float(x))"
   ]
  },
  {
   "cell_type": "code",
   "execution_count": 221,
   "metadata": {},
   "outputs": [
    {
     "data": {
      "text/html": [
       "<div>\n",
       "<style scoped>\n",
       "    .dataframe tbody tr th:only-of-type {\n",
       "        vertical-align: middle;\n",
       "    }\n",
       "\n",
       "    .dataframe tbody tr th {\n",
       "        vertical-align: top;\n",
       "    }\n",
       "\n",
       "    .dataframe thead th {\n",
       "        text-align: right;\n",
       "    }\n",
       "</style>\n",
       "<table border=\"1\" class=\"dataframe\">\n",
       "  <thead>\n",
       "    <tr style=\"text-align: right;\">\n",
       "      <th></th>\n",
       "      <th>Gender_serie</th>\n",
       "      <th>Rating</th>\n",
       "    </tr>\n",
       "  </thead>\n",
       "  <tbody>\n",
       "    <tr>\n",
       "      <th>9</th>\n",
       "      <td>Documental</td>\n",
       "      <td>8.310714</td>\n",
       "    </tr>\n",
       "    <tr>\n",
       "      <th>3</th>\n",
       "      <td>Aventura</td>\n",
       "      <td>8.288889</td>\n",
       "    </tr>\n",
       "    <tr>\n",
       "      <th>2</th>\n",
       "      <td>Animación</td>\n",
       "      <td>8.136000</td>\n",
       "    </tr>\n",
       "    <tr>\n",
       "      <th>8</th>\n",
       "      <td>Crimen</td>\n",
       "      <td>7.854286</td>\n",
       "    </tr>\n",
       "    <tr>\n",
       "      <th>16</th>\n",
       "      <td>Suspense</td>\n",
       "      <td>7.350000</td>\n",
       "    </tr>\n",
       "    <tr>\n",
       "      <th>1</th>\n",
       "      <td>Acción</td>\n",
       "      <td>7.337143</td>\n",
       "    </tr>\n",
       "    <tr>\n",
       "      <th>10</th>\n",
       "      <td>Drama</td>\n",
       "      <td>7.306803</td>\n",
       "    </tr>\n",
       "    <tr>\n",
       "      <th>6</th>\n",
       "      <td>Comedia</td>\n",
       "      <td>7.192187</td>\n",
       "    </tr>\n",
       "    <tr>\n",
       "      <th>5</th>\n",
       "      <td>Ciencia ficción</td>\n",
       "      <td>7.070000</td>\n",
       "    </tr>\n",
       "    <tr>\n",
       "      <th>13</th>\n",
       "      <td>Misterio</td>\n",
       "      <td>6.566667</td>\n",
       "    </tr>\n",
       "    <tr>\n",
       "      <th>11</th>\n",
       "      <td>Familiar</td>\n",
       "      <td>6.500000</td>\n",
       "    </tr>\n",
       "    <tr>\n",
       "      <th>15</th>\n",
       "      <td>Reality</td>\n",
       "      <td>6.350000</td>\n",
       "    </tr>\n",
       "    <tr>\n",
       "      <th>4</th>\n",
       "      <td>Biografía</td>\n",
       "      <td>6.300000</td>\n",
       "    </tr>\n",
       "    <tr>\n",
       "      <th>0</th>\n",
       "      <td></td>\n",
       "      <td>6.250000</td>\n",
       "    </tr>\n",
       "    <tr>\n",
       "      <th>7</th>\n",
       "      <td>Concurso</td>\n",
       "      <td>5.400000</td>\n",
       "    </tr>\n",
       "    <tr>\n",
       "      <th>14</th>\n",
       "      <td>Noticias</td>\n",
       "      <td>5.400000</td>\n",
       "    </tr>\n",
       "    <tr>\n",
       "      <th>12</th>\n",
       "      <td>Guerra</td>\n",
       "      <td>2.500000</td>\n",
       "    </tr>\n",
       "  </tbody>\n",
       "</table>\n",
       "</div>"
      ],
      "text/plain": [
       "       Gender_serie    Rating\n",
       "9        Documental  8.310714\n",
       "3          Aventura  8.288889\n",
       "2         Animación  8.136000\n",
       "8            Crimen  7.854286\n",
       "16         Suspense  7.350000\n",
       "1            Acción  7.337143\n",
       "10            Drama  7.306803\n",
       "6           Comedia  7.192187\n",
       "5   Ciencia ficción  7.070000\n",
       "13         Misterio  6.566667\n",
       "11         Familiar  6.500000\n",
       "15          Reality  6.350000\n",
       "4         Biografía  6.300000\n",
       "0                    6.250000\n",
       "7          Concurso  5.400000\n",
       "14         Noticias  5.400000\n",
       "12           Guerra  2.500000"
      ]
     },
     "execution_count": 221,
     "metadata": {},
     "output_type": "execute_result"
    }
   ],
   "source": [
    "test=pelis[['Gender_serie','Rating']].groupby(by='Gender_serie').mean()\n",
    "Rating_Avg_ByGender=test.reset_index(inplace=False)\n",
    "Rating_Avg_ByGender=Rating_Avg_ByGender.sort_values(by='Rating',ascending=False)\n",
    "Rating_Avg_ByGender"
   ]
  },
  {
   "cell_type": "markdown",
   "metadata": {},
   "source": [
    "# Franquicia con mejor puntuacion"
   ]
  },
  {
   "cell_type": "code",
   "execution_count": 229,
   "metadata": {},
   "outputs": [
    {
     "data": {
      "text/html": [
       "<div>\n",
       "<style scoped>\n",
       "    .dataframe tbody tr th:only-of-type {\n",
       "        vertical-align: middle;\n",
       "    }\n",
       "\n",
       "    .dataframe tbody tr th {\n",
       "        vertical-align: top;\n",
       "    }\n",
       "\n",
       "    .dataframe thead th {\n",
       "        text-align: right;\n",
       "    }\n",
       "</style>\n",
       "<table border=\"1\" class=\"dataframe\">\n",
       "  <thead>\n",
       "    <tr style=\"text-align: right;\">\n",
       "      <th></th>\n",
       "      <th>Home</th>\n",
       "      <th>Rating</th>\n",
       "    </tr>\n",
       "  </thead>\n",
       "  <tbody>\n",
       "    <tr>\n",
       "      <th>82</th>\n",
       "      <td>YouTube Premium</td>\n",
       "      <td>9.30</td>\n",
       "    </tr>\n",
       "    <tr>\n",
       "      <th>5</th>\n",
       "      <td>Adult Swim</td>\n",
       "      <td>9.30</td>\n",
       "    </tr>\n",
       "    <tr>\n",
       "      <th>14</th>\n",
       "      <td>Boomerang</td>\n",
       "      <td>9.30</td>\n",
       "    </tr>\n",
       "    <tr>\n",
       "      <th>55</th>\n",
       "      <td>PBS</td>\n",
       "      <td>9.20</td>\n",
       "    </tr>\n",
       "    <tr>\n",
       "      <th>32</th>\n",
       "      <td>ESPN</td>\n",
       "      <td>9.00</td>\n",
       "    </tr>\n",
       "    <tr>\n",
       "      <th>17</th>\n",
       "      <td>CBBC</td>\n",
       "      <td>8.90</td>\n",
       "    </tr>\n",
       "    <tr>\n",
       "      <th>3</th>\n",
       "      <td>ABC1</td>\n",
       "      <td>8.80</td>\n",
       "    </tr>\n",
       "    <tr>\n",
       "      <th>25</th>\n",
       "      <td>DC Universe</td>\n",
       "      <td>8.65</td>\n",
       "    </tr>\n",
       "    <tr>\n",
       "      <th>83</th>\n",
       "      <td>YouTube Red</td>\n",
       "      <td>8.60</td>\n",
       "    </tr>\n",
       "    <tr>\n",
       "      <th>21</th>\n",
       "      <td>Cartoon Network</td>\n",
       "      <td>8.50</td>\n",
       "    </tr>\n",
       "  </tbody>\n",
       "</table>\n",
       "</div>"
      ],
      "text/plain": [
       "               Home  Rating\n",
       "82  YouTube Premium    9.30\n",
       "5        Adult Swim    9.30\n",
       "14        Boomerang    9.30\n",
       "55              PBS    9.20\n",
       "32             ESPN    9.00\n",
       "17             CBBC    8.90\n",
       "3              ABC1    8.80\n",
       "25      DC Universe    8.65\n",
       "83      YouTube Red    8.60\n",
       "21  Cartoon Network    8.50"
      ]
     },
     "execution_count": 229,
     "metadata": {},
     "output_type": "execute_result"
    }
   ],
   "source": [
    "pelis[['Home','Rating']].groupby(by='Home').mean().reset_index(inplace=False).sort_values(by='Rating',ascending=False).head(10)"
   ]
  },
  {
   "cell_type": "markdown",
   "metadata": {},
   "source": [
    "# Genero con mejor calificación"
   ]
  },
  {
   "cell_type": "code",
   "execution_count": 222,
   "metadata": {},
   "outputs": [
    {
     "data": {
      "text/plain": [
       "<matplotlib.axes._subplots.AxesSubplot at 0x7f700a40fd30>"
      ]
     },
     "execution_count": 222,
     "metadata": {},
     "output_type": "execute_result"
    },
    {
     "data": {
      "image/png": "[encoded data removed]",
      "text/plain": [
       "<Figure size 432x288 with 1 Axes>"
      ]
     },
     "metadata": {},
     "output_type": "display_data"
    }
   ],
   "source": [
    "sns.barplot(x=Rating_Avg_ByGender['Rating'],y=Rating_Avg_ByGender['Gender_serie'])"
   ]
  },
  {
   "cell_type": "code",
   "execution_count": null,
   "metadata": {},
   "outputs": [],
   "source": []
  },
  {
   "cell_type": "markdown",
   "metadata": {},
   "source": [
    "# **FINAL.......**"
   ]
  }
 ],
 "metadata": {
  "kernelspec": {
   "display_name": "Python 3",
   "language": "python",
   "name": "python3"
  },
  "language_info": {
   "codemirror_mode": {
    "name": "ipython",
    "version": 3
   },
   "file_extension": ".py",
   "mimetype": "text/x-python",
   "name": "python",
   "nbconvert_exporter": "python",
   "pygments_lexer": "ipython3",
   "version": "3.7.1"
  }
 },
 "nbformat": 4,
 "nbformat_minor": 2
}
