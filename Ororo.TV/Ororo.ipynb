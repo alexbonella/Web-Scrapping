{
 "cells": [
  {
   "cell_type": "code",
   "execution_count": 1,
   "metadata": {},
   "outputs": [],
   "source": [
    "import requests \n",
    "import numpy as np \n",
    "from bs4 import BeautifulSoup  \n",
    "import pandas as pd\n",
    "import seaborn as sns \n",
    "import matplotlib.pyplot as plt\n",
    "%matplotlib inline"
   ]
  },
  {
   "cell_type": "code",
   "execution_count": 2,
   "metadata": {},
   "outputs": [],
   "source": [
    "r=requests.get('https://ororo.tv/es')"
   ]
  },
  {
   "cell_type": "code",
   "execution_count": 3,
   "metadata": {},
   "outputs": [],
   "source": [
    "# Como no fue posible extraer la informacion de esta manera, creamos un archivo csv"
   ]
  },
  {
   "cell_type": "code",
   "execution_count": 4,
   "metadata": {},
   "outputs": [
    {
     "name": "stderr",
     "output_type": "stream",
     "text": [
      "/home/alexbonella2806/anaconda3/lib/python3.7/site-packages/ipykernel_launcher.py:1: ParserWarning: Falling back to the 'python' engine because the 'c' engine does not support regex separators (separators > 1 char and different from '\\s+' are interpreted as regex); you can avoid this warning by specifying engine='python'.\n",
      "  \"\"\"Entry point for launching an IPython kernel.\n"
     ]
    }
   ],
   "source": [
    "df=pd.read_csv('information_movies.dat',sep='},') "
   ]
  },
  {
   "cell_type": "code",
   "execution_count": 5,
   "metadata": {},
   "outputs": [
    {
     "data": {
      "text/plain": [
       "'580'"
      ]
     },
     "execution_count": 5,
     "metadata": {},
     "output_type": "execute_result"
    }
   ],
   "source": [
    "df.columns[59].split(',')[0].split(':')[1] # Id de la serie"
   ]
  },
  {
   "cell_type": "code",
   "execution_count": 6,
   "metadata": {},
   "outputs": [
    {
     "data": {
      "text/plain": [
       "'Doctor Foster'"
      ]
     },
     "execution_count": 6,
     "metadata": {},
     "output_type": "execute_result"
    }
   ],
   "source": [
    "df.columns[59].split(',')[1].split(':')[1].replace('\"',\"\") # Titulo de la serie"
   ]
  },
  {
   "cell_type": "code",
   "execution_count": 7,
   "metadata": {},
   "outputs": [
    {
     "data": {
      "text/plain": [
       "'Drama'"
      ]
     },
     "execution_count": 7,
     "metadata": {},
     "output_type": "execute_result"
    }
   ],
   "source": [
    "df.columns[59].split(',')[2].split(':')[1].replace('\"',\"\") # Genero de la serie"
   ]
  },
  {
   "cell_type": "code",
   "execution_count": 8,
   "metadata": {},
   "outputs": [
    {
     "data": {
      "text/plain": [
       "'2015'"
      ]
     },
     "execution_count": 8,
     "metadata": {},
     "output_type": "execute_result"
    }
   ],
   "source": [
    "df.columns[59].split('year')[1].split(',')[0].split(':')[1].replace('\"',\"\") # Año de estreno"
   ]
  },
  {
   "cell_type": "code",
   "execution_count": 9,
   "metadata": {},
   "outputs": [
    {
     "data": {
      "text/plain": [
       "'7.9'"
      ]
     },
     "execution_count": 9,
     "metadata": {},
     "output_type": "execute_result"
    }
   ],
   "source": [
    "df.columns[59].split('imdb')[1].split(',')[0].split(':')[1] # Rating serie "
   ]
  },
  {
   "cell_type": "code",
   "execution_count": 10,
   "metadata": {},
   "outputs": [
    {
     "data": {
      "text/plain": [
       "'A woman suspects her husband of having an affair. After following several lines of enquiries far more unravels including a streak of violence below the surface.\\\\r\\\\n'"
      ]
     },
     "execution_count": 10,
     "metadata": {},
     "output_type": "execute_result"
    }
   ],
   "source": [
    "df.columns[59].split('desc')[1].split('\"')[2] # Descripcion de la serie "
   ]
  },
  {
   "cell_type": "code",
   "execution_count": 11,
   "metadata": {},
   "outputs": [],
   "source": [
    "# Creamos las listas para los DataFrames"
   ]
  },
  {
   "cell_type": "code",
   "execution_count": 12,
   "metadata": {},
   "outputs": [],
   "source": [
    "ID_serie=[]\n",
    "Title_serie=[]\n",
    "Gender_serie=[]\n",
    "Rating=[]\n",
    "Year=[]\n",
    "Desc=[]\n",
    "for i in range(60):\n",
    "    ID_serie.append(df.columns[i].split(',')[0].split(':')[1])\n",
    "    Title_serie.append(df.columns[i].split(',')[1].split(':')[1].replace('\"',\"\"))\n",
    "    Gender_serie.append(df.columns[i].split('translated')[1].split(':')[1].split(',')[0].replace('\"',\"\"))\n",
    "    Year.append(df.columns[i].split('year')[1].split(',')[0].split(':')[1].replace('\"',\"\"))\n",
    "    Rating.append(df.columns[i].split('imdb')[1].split(',')[0].split(':')[1])\n",
    "    Desc.append(df.columns[i].split('desc')[1].split('\"')[2])"
   ]
  },
  {
   "cell_type": "code",
   "execution_count": 13,
   "metadata": {},
   "outputs": [],
   "source": [
    "# Eliminamos los caracteres especiales de genero como \"Animaci\\u00f3n \" y \"Biograf\\u00eda\" "
   ]
  },
  {
   "cell_type": "code",
   "execution_count": 14,
   "metadata": {},
   "outputs": [],
   "source": [
    "Gender_edit=[]\n",
    "for i in range(60):\n",
    "    Gender_edit.append(Gender_serie[i].replace('\\\\u00f3', 'ó'))\n",
    "    \n",
    "#--------------------------------------------------------------------------\n",
    "#--------------------------------------------------------------------------\n",
    "\n",
    "Gender_edit2=[]\n",
    "for i in range (60):\n",
    "    Gender_edit2.append(Gender_edit[i].replace('\\\\u00ed', 'í'))"
   ]
  },
  {
   "cell_type": "code",
   "execution_count": null,
   "metadata": {},
   "outputs": [],
   "source": []
  },
  {
   "cell_type": "code",
   "execution_count": 15,
   "metadata": {},
   "outputs": [],
   "source": [
    "# Creamos nuestro DataFrame para hacer las consultas respectivas "
   ]
  },
  {
   "cell_type": "code",
   "execution_count": 16,
   "metadata": {},
   "outputs": [],
   "source": [
    "data={'ID_serie':ID_serie,'Title_serie':Title_serie,'Gender_serie':Gender_edit2,'Year':Year,'Rating':Rating,'Desc':Desc}"
   ]
  },
  {
   "cell_type": "code",
   "execution_count": 17,
   "metadata": {},
   "outputs": [],
   "source": [
    "movies=pd.DataFrame(data)"
   ]
  },
  {
   "cell_type": "code",
   "execution_count": 18,
   "metadata": {},
   "outputs": [
    {
     "data": {
      "text/html": [
       "<div>\n",
       "<style scoped>\n",
       "    .dataframe tbody tr th:only-of-type {\n",
       "        vertical-align: middle;\n",
       "    }\n",
       "\n",
       "    .dataframe tbody tr th {\n",
       "        vertical-align: top;\n",
       "    }\n",
       "\n",
       "    .dataframe thead th {\n",
       "        text-align: right;\n",
       "    }\n",
       "</style>\n",
       "<table border=\"1\" class=\"dataframe\">\n",
       "  <thead>\n",
       "    <tr style=\"text-align: right;\">\n",
       "      <th></th>\n",
       "      <th>ID_serie</th>\n",
       "      <th>Title_serie</th>\n",
       "      <th>Gender_serie</th>\n",
       "      <th>Year</th>\n",
       "      <th>Rating</th>\n",
       "      <th>Desc</th>\n",
       "    </tr>\n",
       "  </thead>\n",
       "  <tbody>\n",
       "    <tr>\n",
       "      <th>44</th>\n",
       "      <td>1241</td>\n",
       "      <td>Blue Planet II</td>\n",
       "      <td>Documental</td>\n",
       "      <td>2017</td>\n",
       "      <td>9.9</td>\n",
       "      <td>Sir David Attenborough returns to the ocean wa...</td>\n",
       "    </tr>\n",
       "    <tr>\n",
       "      <th>21</th>\n",
       "      <td>453</td>\n",
       "      <td>Rick and Morty</td>\n",
       "      <td>Animación</td>\n",
       "      <td>2013</td>\n",
       "      <td>9.3</td>\n",
       "      <td>An animated series that follows the exploits o...</td>\n",
       "    </tr>\n",
       "    <tr>\n",
       "      <th>10</th>\n",
       "      <td>1247</td>\n",
       "      <td>Marvels The punisher</td>\n",
       "      <td>Acción</td>\n",
       "      <td>2017</td>\n",
       "      <td>9.3</td>\n",
       "      <td>After the murder of his family, Marine veteran...</td>\n",
       "    </tr>\n",
       "    <tr>\n",
       "      <th>29</th>\n",
       "      <td>910</td>\n",
       "      <td>Stranger Things</td>\n",
       "      <td>Drama</td>\n",
       "      <td>2016</td>\n",
       "      <td>9.0</td>\n",
       "      <td>When a young boy disappears, his mother must c...</td>\n",
       "    </tr>\n",
       "    <tr>\n",
       "      <th>30</th>\n",
       "      <td>991</td>\n",
       "      <td>The Crown</td>\n",
       "      <td>Drama</td>\n",
       "      <td>2016</td>\n",
       "      <td>8.9</td>\n",
       "      <td>The Crown focuses on Queen Elizabeth II as a 2...</td>\n",
       "    </tr>\n",
       "    <tr>\n",
       "      <th>2</th>\n",
       "      <td>944</td>\n",
       "      <td>This Is Us</td>\n",
       "      <td>Comedia</td>\n",
       "      <td>2016</td>\n",
       "      <td>8.9</td>\n",
       "      <td>A group of people born on the same day, includ...</td>\n",
       "    </tr>\n",
       "    <tr>\n",
       "      <th>37</th>\n",
       "      <td>578</td>\n",
       "      <td>Narcos</td>\n",
       "      <td>Crimen</td>\n",
       "      <td>2015</td>\n",
       "      <td>8.9</td>\n",
       "      <td>A chronicled look at the criminal exploits of ...</td>\n",
       "    </tr>\n",
       "    <tr>\n",
       "      <th>9</th>\n",
       "      <td>28</td>\n",
       "      <td>Black Mirror</td>\n",
       "      <td>Drama</td>\n",
       "      <td>2011</td>\n",
       "      <td>8.9</td>\n",
       "      <td>If technology is a drug \\u2013 and it does fee...</td>\n",
       "    </tr>\n",
       "    <tr>\n",
       "      <th>28</th>\n",
       "      <td>1096</td>\n",
       "      <td>13 Reasons Why</td>\n",
       "      <td>Drama</td>\n",
       "      <td>2017</td>\n",
       "      <td>8.9</td>\n",
       "      <td>Follows teenager Clay Jensen, in his quest to ...</td>\n",
       "    </tr>\n",
       "    <tr>\n",
       "      <th>41</th>\n",
       "      <td>1231</td>\n",
       "      <td>Mindhunter</td>\n",
       "      <td>Crimen</td>\n",
       "      <td>2017</td>\n",
       "      <td>8.8</td>\n",
       "      <td>An agent in the FBI's Elite Serial Crime Unit ...</td>\n",
       "    </tr>\n",
       "  </tbody>\n",
       "</table>\n",
       "</div>"
      ],
      "text/plain": [
       "   ID_serie           Title_serie Gender_serie  Year Rating  \\\n",
       "44     1241        Blue Planet II   Documental  2017    9.9   \n",
       "21      453        Rick and Morty    Animación  2013    9.3   \n",
       "10     1247  Marvels The punisher       Acción  2017    9.3   \n",
       "29      910       Stranger Things        Drama  2016    9.0   \n",
       "30      991             The Crown        Drama  2016    8.9   \n",
       "2       944            This Is Us      Comedia  2016    8.9   \n",
       "37      578                Narcos       Crimen  2015    8.9   \n",
       "9        28          Black Mirror        Drama  2011    8.9   \n",
       "28     1096        13 Reasons Why        Drama  2017    8.9   \n",
       "41     1231            Mindhunter       Crimen  2017    8.8   \n",
       "\n",
       "                                                 Desc  \n",
       "44  Sir David Attenborough returns to the ocean wa...  \n",
       "21  An animated series that follows the exploits o...  \n",
       "10  After the murder of his family, Marine veteran...  \n",
       "29  When a young boy disappears, his mother must c...  \n",
       "30  The Crown focuses on Queen Elizabeth II as a 2...  \n",
       "2   A group of people born on the same day, includ...  \n",
       "37  A chronicled look at the criminal exploits of ...  \n",
       "9   If technology is a drug \\u2013 and it does fee...  \n",
       "28  Follows teenager Clay Jensen, in his quest to ...  \n",
       "41  An agent in the FBI's Elite Serial Crime Unit ...  "
      ]
     },
     "execution_count": 18,
     "metadata": {},
     "output_type": "execute_result"
    }
   ],
   "source": [
    "movies.sort_values(by='Rating',ascending=False).head(10) # Top 10 mejores series "
   ]
  },
  {
   "cell_type": "code",
   "execution_count": 19,
   "metadata": {},
   "outputs": [
    {
     "data": {
      "text/html": [
       "<div>\n",
       "<style scoped>\n",
       "    .dataframe tbody tr th:only-of-type {\n",
       "        vertical-align: middle;\n",
       "    }\n",
       "\n",
       "    .dataframe tbody tr th {\n",
       "        vertical-align: top;\n",
       "    }\n",
       "\n",
       "    .dataframe thead th {\n",
       "        text-align: right;\n",
       "    }\n",
       "</style>\n",
       "<table border=\"1\" class=\"dataframe\">\n",
       "  <thead>\n",
       "    <tr style=\"text-align: right;\">\n",
       "      <th></th>\n",
       "      <th>ID_serie</th>\n",
       "      <th>Title_serie</th>\n",
       "      <th>Gender_serie</th>\n",
       "      <th>Year</th>\n",
       "      <th>Rating</th>\n",
       "      <th>Desc</th>\n",
       "    </tr>\n",
       "  </thead>\n",
       "  <tbody>\n",
       "    <tr>\n",
       "      <th>54</th>\n",
       "      <td>1201</td>\n",
       "      <td>Liar</td>\n",
       "      <td>Drama</td>\n",
       "      <td>2017</td>\n",
       "      <td>7.1</td>\n",
       "      <td>LIAR is a 21st-century take on modern-day gend...</td>\n",
       "    </tr>\n",
       "    <tr>\n",
       "      <th>1</th>\n",
       "      <td>1215</td>\n",
       "      <td>Young Sheldon</td>\n",
       "      <td>Comedia</td>\n",
       "      <td>2017</td>\n",
       "      <td>7.0</td>\n",
       "      <td>The early life of child genius Sheldon, later ...</td>\n",
       "    </tr>\n",
       "    <tr>\n",
       "      <th>42</th>\n",
       "      <td>1161</td>\n",
       "      <td>Salvation</td>\n",
       "      <td>Drama</td>\n",
       "      <td>2017</td>\n",
       "      <td>6.9</td>\n",
       "      <td>An MIT grad student and a tech superstar bring...</td>\n",
       "    </tr>\n",
       "    <tr>\n",
       "      <th>34</th>\n",
       "      <td>786</td>\n",
       "      <td>Girlfriends' Guide to Divorce</td>\n",
       "      <td>Comedia</td>\n",
       "      <td>2014</td>\n",
       "      <td>6.9</td>\n",
       "      <td>Follows a best-selling author of a self-help b...</td>\n",
       "    </tr>\n",
       "    <tr>\n",
       "      <th>8</th>\n",
       "      <td>1212</td>\n",
       "      <td>Star Trek</td>\n",
       "      <td>Ciencia ficción</td>\n",
       "      <td>2017</td>\n",
       "      <td>6.8</td>\n",
       "      <td>Ten years before Kirk, Spock and the Enterpris...</td>\n",
       "    </tr>\n",
       "    <tr>\n",
       "      <th>24</th>\n",
       "      <td>943</td>\n",
       "      <td>Bull</td>\n",
       "      <td>Drama</td>\n",
       "      <td>2016</td>\n",
       "      <td>6.6</td>\n",
       "      <td>BULL stars Michael Weatherly as Dr. Jason Bull...</td>\n",
       "    </tr>\n",
       "    <tr>\n",
       "      <th>53</th>\n",
       "      <td>1276</td>\n",
       "      <td>Britannia</td>\n",
       "      <td>Drama</td>\n",
       "      <td>2018</td>\n",
       "      <td>6.6</td>\n",
       "      <td>An epic drama set in 43AD as the Roman Imperia...</td>\n",
       "    </tr>\n",
       "    <tr>\n",
       "      <th>17</th>\n",
       "      <td>986</td>\n",
       "      <td>Man with a Plan</td>\n",
       "      <td>Comedia</td>\n",
       "      <td>2016</td>\n",
       "      <td>6.4</td>\n",
       "      <td>A dad finds out that parenting is harder than ...</td>\n",
       "    </tr>\n",
       "    <tr>\n",
       "      <th>20</th>\n",
       "      <td>1230</td>\n",
       "      <td>Dynasty</td>\n",
       "      <td>Drama</td>\n",
       "      <td>2017</td>\n",
       "      <td>6.0</td>\n",
       "      <td>Follows two of America's wealthiest families a...</td>\n",
       "    </tr>\n",
       "    <tr>\n",
       "      <th>57</th>\n",
       "      <td>1208</td>\n",
       "      <td>Marvels Inhumans</td>\n",
       "      <td>Acción</td>\n",
       "      <td>2017</td>\n",
       "      <td>5.2</td>\n",
       "      <td>An isolated community of superhumans fight to ...</td>\n",
       "    </tr>\n",
       "  </tbody>\n",
       "</table>\n",
       "</div>"
      ],
      "text/plain": [
       "   ID_serie                    Title_serie     Gender_serie  Year Rating  \\\n",
       "54     1201                           Liar            Drama  2017    7.1   \n",
       "1      1215                  Young Sheldon          Comedia  2017    7.0   \n",
       "42     1161                      Salvation            Drama  2017    6.9   \n",
       "34      786  Girlfriends' Guide to Divorce          Comedia  2014    6.9   \n",
       "8      1212                      Star Trek  Ciencia ficción  2017    6.8   \n",
       "24      943                           Bull            Drama  2016    6.6   \n",
       "53     1276                      Britannia            Drama  2018    6.6   \n",
       "17      986                Man with a Plan          Comedia  2016    6.4   \n",
       "20     1230                        Dynasty            Drama  2017    6.0   \n",
       "57     1208               Marvels Inhumans           Acción  2017    5.2   \n",
       "\n",
       "                                                 Desc  \n",
       "54  LIAR is a 21st-century take on modern-day gend...  \n",
       "1   The early life of child genius Sheldon, later ...  \n",
       "42  An MIT grad student and a tech superstar bring...  \n",
       "34  Follows a best-selling author of a self-help b...  \n",
       "8   Ten years before Kirk, Spock and the Enterpris...  \n",
       "24  BULL stars Michael Weatherly as Dr. Jason Bull...  \n",
       "53  An epic drama set in 43AD as the Roman Imperia...  \n",
       "17  A dad finds out that parenting is harder than ...  \n",
       "20  Follows two of America's wealthiest families a...  \n",
       "57  An isolated community of superhumans fight to ...  "
      ]
     },
     "execution_count": 19,
     "metadata": {},
     "output_type": "execute_result"
    }
   ],
   "source": [
    "movies.sort_values(by='Rating',ascending=False).tail(10) # Top 10 series con menos puntuación "
   ]
  },
  {
   "cell_type": "code",
   "execution_count": 20,
   "metadata": {},
   "outputs": [
    {
     "data": {
      "text/plain": [
       "Drama              19\n",
       "Comedia            17\n",
       "Crimen              7\n",
       "Acción              5\n",
       "Animación           4\n",
       "Aventura            2\n",
       "Biografía           2\n",
       "Ciencia ficción     2\n",
       "Documental          1\n",
       "Suspense            1\n",
       "Name: Gender_serie, dtype: int64"
      ]
     },
     "execution_count": 20,
     "metadata": {},
     "output_type": "execute_result"
    }
   ],
   "source": [
    "movies['Gender_serie'].value_counts()"
   ]
  },
  {
   "cell_type": "code",
   "execution_count": 21,
   "metadata": {},
   "outputs": [],
   "source": [
    "Count_By_Gender=pd.DataFrame(movies['Gender_serie'].value_counts())"
   ]
  },
  {
   "cell_type": "code",
   "execution_count": 22,
   "metadata": {},
   "outputs": [
    {
     "data": {
      "text/plain": [
       "Index(['Gender_serie'], dtype='object')"
      ]
     },
     "execution_count": 22,
     "metadata": {},
     "output_type": "execute_result"
    }
   ],
   "source": [
    "Count_By_Gender.columns"
   ]
  },
  {
   "cell_type": "code",
   "execution_count": 23,
   "metadata": {},
   "outputs": [
    {
     "data": {
      "text/plain": [
       "Index(['Drama', 'Comedia', 'Crimen', 'Acción', 'Animación', 'Aventura',\n",
       "       'Biografía', 'Ciencia ficción', 'Documental', 'Suspense'],\n",
       "      dtype='object')"
      ]
     },
     "execution_count": 23,
     "metadata": {},
     "output_type": "execute_result"
    }
   ],
   "source": [
    "Count_By_Gender.index"
   ]
  },
  {
   "cell_type": "code",
   "execution_count": 24,
   "metadata": {},
   "outputs": [],
   "source": [
    "# Series por Genero"
   ]
  },
  {
   "cell_type": "code",
   "execution_count": 25,
   "metadata": {},
   "outputs": [
    {
     "data": {
      "text/plain": [
       "<matplotlib.axes._subplots.AxesSubplot at 0x7fa895a35b00>"
      ]
     },
     "execution_count": 25,
     "metadata": {},
     "output_type": "execute_result"
    },
    {
     "data": {
      "image/png": "[encoded data removed]",
      "text/plain": [
       "<Figure size 432x288 with 1 Axes>"
      ]
     },
     "metadata": {},
     "output_type": "display_data"
    }
   ],
   "source": [
    "sns.set_style(style='darkgrid')\n",
    "plt.title('Series By Gender')\n",
    "sns.barplot(x=Count_By_Gender['Gender_serie'],y=Count_By_Gender.index)"
   ]
  },
  {
   "cell_type": "code",
   "execution_count": 26,
   "metadata": {},
   "outputs": [],
   "source": [
    "# Genero que mas le gusta a los  usuarios de Ororo.TV"
   ]
  },
  {
   "cell_type": "code",
   "execution_count": 27,
   "metadata": {},
   "outputs": [],
   "source": [
    "rating_num=[]\n",
    "for i in range(60):\n",
    "    rating_num.append(float(movies['Rating'][i]))"
   ]
  },
  {
   "cell_type": "code",
   "execution_count": 28,
   "metadata": {},
   "outputs": [],
   "source": [
    "movies['Rating']=rating_num"
   ]
  },
  {
   "cell_type": "code",
   "execution_count": 29,
   "metadata": {},
   "outputs": [
    {
     "data": {
      "text/html": [
       "<div>\n",
       "<style scoped>\n",
       "    .dataframe tbody tr th:only-of-type {\n",
       "        vertical-align: middle;\n",
       "    }\n",
       "\n",
       "    .dataframe tbody tr th {\n",
       "        vertical-align: top;\n",
       "    }\n",
       "\n",
       "    .dataframe thead th {\n",
       "        text-align: right;\n",
       "    }\n",
       "</style>\n",
       "<table border=\"1\" class=\"dataframe\">\n",
       "  <thead>\n",
       "    <tr style=\"text-align: right;\">\n",
       "      <th></th>\n",
       "      <th>Gender_serie</th>\n",
       "      <th>Rating</th>\n",
       "    </tr>\n",
       "  </thead>\n",
       "  <tbody>\n",
       "    <tr>\n",
       "      <th>7</th>\n",
       "      <td>Documental</td>\n",
       "      <td>9.900000</td>\n",
       "    </tr>\n",
       "    <tr>\n",
       "      <th>1</th>\n",
       "      <td>Animación</td>\n",
       "      <td>8.625000</td>\n",
       "    </tr>\n",
       "    <tr>\n",
       "      <th>3</th>\n",
       "      <td>Biografía</td>\n",
       "      <td>8.400000</td>\n",
       "    </tr>\n",
       "    <tr>\n",
       "      <th>6</th>\n",
       "      <td>Crimen</td>\n",
       "      <td>8.171429</td>\n",
       "    </tr>\n",
       "    <tr>\n",
       "      <th>9</th>\n",
       "      <td>Suspense</td>\n",
       "      <td>7.900000</td>\n",
       "    </tr>\n",
       "    <tr>\n",
       "      <th>8</th>\n",
       "      <td>Drama</td>\n",
       "      <td>7.842105</td>\n",
       "    </tr>\n",
       "    <tr>\n",
       "      <th>5</th>\n",
       "      <td>Comedia</td>\n",
       "      <td>7.711765</td>\n",
       "    </tr>\n",
       "    <tr>\n",
       "      <th>2</th>\n",
       "      <td>Aventura</td>\n",
       "      <td>7.550000</td>\n",
       "    </tr>\n",
       "    <tr>\n",
       "      <th>0</th>\n",
       "      <td>Acción</td>\n",
       "      <td>7.340000</td>\n",
       "    </tr>\n",
       "    <tr>\n",
       "      <th>4</th>\n",
       "      <td>Ciencia ficción</td>\n",
       "      <td>7.250000</td>\n",
       "    </tr>\n",
       "  </tbody>\n",
       "</table>\n",
       "</div>"
      ],
      "text/plain": [
       "      Gender_serie    Rating\n",
       "7       Documental  9.900000\n",
       "1        Animación  8.625000\n",
       "3        Biografía  8.400000\n",
       "6           Crimen  8.171429\n",
       "9         Suspense  7.900000\n",
       "8            Drama  7.842105\n",
       "5          Comedia  7.711765\n",
       "2         Aventura  7.550000\n",
       "0           Acción  7.340000\n",
       "4  Ciencia ficción  7.250000"
      ]
     },
     "execution_count": 29,
     "metadata": {},
     "output_type": "execute_result"
    }
   ],
   "source": [
    "test=movies[['Gender_serie','Rating']].groupby(by='Gender_serie').mean()\n",
    "Rating_Avg_ByGender=test.reset_index(inplace=False)\n",
    "Rating_Avg_ByGender=Rating_Avg_ByGender.sort_values(by='Rating',ascending=False)\n",
    "Rating_Avg_ByGender"
   ]
  },
  {
   "cell_type": "code",
   "execution_count": 30,
   "metadata": {},
   "outputs": [],
   "source": [
    "#  Genero con mejor calificación"
   ]
  },
  {
   "cell_type": "code",
   "execution_count": 31,
   "metadata": {},
   "outputs": [
    {
     "data": {
      "text/plain": [
       "<matplotlib.axes._subplots.AxesSubplot at 0x7fa8956d4358>"
      ]
     },
     "execution_count": 31,
     "metadata": {},
     "output_type": "execute_result"
    },
    {
     "data": {
      "image/png": "[encoded data removed]",
      "text/plain": [
       "<Figure size 432x288 with 1 Axes>"
      ]
     },
     "metadata": {},
     "output_type": "display_data"
    }
   ],
   "source": [
    "sns.barplot(x=Rating_Avg_ByGender['Rating'],y=Rating_Avg_ByGender['Gender_serie'])"
   ]
  },
  {
   "cell_type": "code",
   "execution_count": null,
   "metadata": {},
   "outputs": [],
   "source": []
  },
  {
   "cell_type": "markdown",
   "metadata": {},
   "source": [
    "# **FINAL.......**"
   ]
  }
 ],
 "metadata": {
  "kernelspec": {
   "display_name": "Python 3",
   "language": "python",
   "name": "python3"
  },
  "language_info": {
   "codemirror_mode": {
    "name": "ipython",
    "version": 3
   },
   "file_extension": ".py",
   "mimetype": "text/x-python",
   "name": "python",
   "nbconvert_exporter": "python",
   "pygments_lexer": "ipython3",
   "version": "3.7.1"
  }
 },
 "nbformat": 4,
 "nbformat_minor": 2
}
